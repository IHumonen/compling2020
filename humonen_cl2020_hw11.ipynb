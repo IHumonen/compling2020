{
  "nbformat": 4,
  "nbformat_minor": 0,
  "metadata": {
    "kernelspec": {
      "display_name": "Python 3",
      "language": "python",
      "name": "python3"
    },
    "language_info": {
      "codemirror_mode": {
        "name": "ipython",
        "version": 3
      },
      "file_extension": ".py",
      "mimetype": "text/x-python",
      "name": "python",
      "nbconvert_exporter": "python",
      "pygments_lexer": "ipython3",
      "version": "3.8.8"
    },
    "colab": {
      "name": "humonen_cl2020_hw11",
      "provenance": [],
      "collapsed_sections": [],
      "toc_visible": true
    },
    "accelerator": "GPU"
  },
  "cells": [
    {
      "cell_type": "code",
      "metadata": {
        "scrolled": true,
        "colab": {
          "base_uri": "https://localhost:8080/"
        },
        "id": "USDNzyGHSK9F",
        "outputId": "a2e9cc76-54aa-4016-a10b-0ea7ee461969"
      },
      "source": [
        "!pip install pandas scikit-learn matplotlib"
      ],
      "execution_count": 1,
      "outputs": [
        {
          "output_type": "stream",
          "text": [
            "Requirement already satisfied: pandas in /usr/local/lib/python3.7/dist-packages (1.1.5)\n",
            "Requirement already satisfied: scikit-learn in /usr/local/lib/python3.7/dist-packages (0.22.2.post1)\n",
            "Requirement already satisfied: matplotlib in /usr/local/lib/python3.7/dist-packages (3.2.2)\n",
            "Requirement already satisfied: numpy>=1.15.4 in /usr/local/lib/python3.7/dist-packages (from pandas) (1.19.5)\n",
            "Requirement already satisfied: python-dateutil>=2.7.3 in /usr/local/lib/python3.7/dist-packages (from pandas) (2.8.1)\n",
            "Requirement already satisfied: pytz>=2017.2 in /usr/local/lib/python3.7/dist-packages (from pandas) (2018.9)\n",
            "Requirement already satisfied: joblib>=0.11 in /usr/local/lib/python3.7/dist-packages (from scikit-learn) (1.0.1)\n",
            "Requirement already satisfied: scipy>=0.17.0 in /usr/local/lib/python3.7/dist-packages (from scikit-learn) (1.4.1)\n",
            "Requirement already satisfied: kiwisolver>=1.0.1 in /usr/local/lib/python3.7/dist-packages (from matplotlib) (1.3.1)\n",
            "Requirement already satisfied: pyparsing!=2.0.4,!=2.1.2,!=2.1.6,>=2.0.1 in /usr/local/lib/python3.7/dist-packages (from matplotlib) (2.4.7)\n",
            "Requirement already satisfied: cycler>=0.10 in /usr/local/lib/python3.7/dist-packages (from matplotlib) (0.10.0)\n",
            "Requirement already satisfied: six>=1.5 in /usr/local/lib/python3.7/dist-packages (from python-dateutil>=2.7.3->pandas) (1.15.0)\n"
          ],
          "name": "stdout"
        }
      ]
    },
    {
      "cell_type": "code",
      "metadata": {
        "id": "Xl0R8WXhP57C"
      },
      "source": [
        ""
      ],
      "execution_count": 1,
      "outputs": []
    },
    {
      "cell_type": "code",
      "metadata": {
        "id": "U7wNBB26SK9O"
      },
      "source": [
        "import torch\n",
        "import torch.nn as nn\n",
        "import torch.nn.functional as F\n",
        "import torch.optim as optim"
      ],
      "execution_count": 2,
      "outputs": []
    },
    {
      "cell_type": "code",
      "metadata": {
        "id": "a237g2xfSK9S"
      },
      "source": [
        "import pandas as pd\n",
        "import numpy as np\n",
        "from string import punctuation\n",
        "from sklearn.model_selection import train_test_split\n",
        "from collections import Counter\n",
        "import matplotlib.pyplot as plt\n",
        "%matplotlib inline"
      ],
      "execution_count": 3,
      "outputs": []
    },
    {
      "cell_type": "markdown",
      "metadata": {
        "id": "aLR01pnISK-I"
      },
      "source": [
        "## Классификация"
      ]
    },
    {
      "cell_type": "markdown",
      "metadata": {
        "id": "7J4DuuleSK-J"
      },
      "source": [
        "Данные возьмем из соревнования - https://www.kaggle.com/c/quora-insincere-questions-classification/overview  \n",
        "В этом соревновании нужно было предсказывать токсичность вопроса."
      ]
    },
    {
      "cell_type": "code",
      "metadata": {
        "id": "RSsfy-A5SK-K"
      },
      "source": [
        "quora = pd.read_csv('quora.csv')"
      ],
      "execution_count": 4,
      "outputs": []
    },
    {
      "cell_type": "code",
      "metadata": {
        "id": "xpCR-2YkSK-L",
        "colab": {
          "base_uri": "https://localhost:8080/",
          "height": 419
        },
        "outputId": "74908de5-0f89-4b71-ef9c-b7f997a2da95"
      },
      "source": [
        "quora"
      ],
      "execution_count": 5,
      "outputs": [
        {
          "output_type": "execute_result",
          "data": {
            "text/html": [
              "<div>\n",
              "<style scoped>\n",
              "    .dataframe tbody tr th:only-of-type {\n",
              "        vertical-align: middle;\n",
              "    }\n",
              "\n",
              "    .dataframe tbody tr th {\n",
              "        vertical-align: top;\n",
              "    }\n",
              "\n",
              "    .dataframe thead th {\n",
              "        text-align: right;\n",
              "    }\n",
              "</style>\n",
              "<table border=\"1\" class=\"dataframe\">\n",
              "  <thead>\n",
              "    <tr style=\"text-align: right;\">\n",
              "      <th></th>\n",
              "      <th>qid</th>\n",
              "      <th>question_text</th>\n",
              "      <th>target</th>\n",
              "    </tr>\n",
              "  </thead>\n",
              "  <tbody>\n",
              "    <tr>\n",
              "      <th>0</th>\n",
              "      <td>00002165364db923c7e6</td>\n",
              "      <td>How did Quebec nationalists see their province...</td>\n",
              "      <td>0</td>\n",
              "    </tr>\n",
              "    <tr>\n",
              "      <th>1</th>\n",
              "      <td>000032939017120e6e44</td>\n",
              "      <td>Do you have an adopted dog, how would you enco...</td>\n",
              "      <td>0</td>\n",
              "    </tr>\n",
              "    <tr>\n",
              "      <th>2</th>\n",
              "      <td>0000412ca6e4628ce2cf</td>\n",
              "      <td>Why does velocity affect time? Does velocity a...</td>\n",
              "      <td>0</td>\n",
              "    </tr>\n",
              "    <tr>\n",
              "      <th>3</th>\n",
              "      <td>000042bf85aa498cd78e</td>\n",
              "      <td>How did Otto von Guericke used the Magdeburg h...</td>\n",
              "      <td>0</td>\n",
              "    </tr>\n",
              "    <tr>\n",
              "      <th>4</th>\n",
              "      <td>0000455dfa3e01eae3af</td>\n",
              "      <td>Can I convert montra helicon D to a mountain b...</td>\n",
              "      <td>0</td>\n",
              "    </tr>\n",
              "    <tr>\n",
              "      <th>...</th>\n",
              "      <td>...</td>\n",
              "      <td>...</td>\n",
              "      <td>...</td>\n",
              "    </tr>\n",
              "    <tr>\n",
              "      <th>1306117</th>\n",
              "      <td>ffffcc4e2331aaf1e41e</td>\n",
              "      <td>What other technical skills do you need as a c...</td>\n",
              "      <td>0</td>\n",
              "    </tr>\n",
              "    <tr>\n",
              "      <th>1306118</th>\n",
              "      <td>ffffd431801e5a2f4861</td>\n",
              "      <td>Does MS in ECE have good job prospects in USA ...</td>\n",
              "      <td>0</td>\n",
              "    </tr>\n",
              "    <tr>\n",
              "      <th>1306119</th>\n",
              "      <td>ffffd48fb36b63db010c</td>\n",
              "      <td>Is foam insulation toxic?</td>\n",
              "      <td>0</td>\n",
              "    </tr>\n",
              "    <tr>\n",
              "      <th>1306120</th>\n",
              "      <td>ffffec519fa37cf60c78</td>\n",
              "      <td>How can one start a research project based on ...</td>\n",
              "      <td>0</td>\n",
              "    </tr>\n",
              "    <tr>\n",
              "      <th>1306121</th>\n",
              "      <td>ffffed09fedb5088744a</td>\n",
              "      <td>Who wins in a battle between a Wolverine and a...</td>\n",
              "      <td>0</td>\n",
              "    </tr>\n",
              "  </tbody>\n",
              "</table>\n",
              "<p>1306122 rows × 3 columns</p>\n",
              "</div>"
            ],
            "text/plain": [
              "                          qid  ... target\n",
              "0        00002165364db923c7e6  ...      0\n",
              "1        000032939017120e6e44  ...      0\n",
              "2        0000412ca6e4628ce2cf  ...      0\n",
              "3        000042bf85aa498cd78e  ...      0\n",
              "4        0000455dfa3e01eae3af  ...      0\n",
              "...                       ...  ...    ...\n",
              "1306117  ffffcc4e2331aaf1e41e  ...      0\n",
              "1306118  ffffd431801e5a2f4861  ...      0\n",
              "1306119  ffffd48fb36b63db010c  ...      0\n",
              "1306120  ffffec519fa37cf60c78  ...      0\n",
              "1306121  ffffed09fedb5088744a  ...      0\n",
              "\n",
              "[1306122 rows x 3 columns]"
            ]
          },
          "metadata": {
            "tags": []
          },
          "execution_count": 5
        }
      ]
    },
    {
      "cell_type": "markdown",
      "metadata": {
        "id": "Y_iySPTMSK-L"
      },
      "source": [
        "Предобработка"
      ]
    },
    {
      "cell_type": "code",
      "metadata": {
        "id": "V1e06T3MUwL2"
      },
      "source": [
        "def preprocess(text):\n",
        "    tokens = text.lower().split()\n",
        "    tokens = [token.strip(punctuation) for token in tokens]\n",
        "    return tokens"
      ],
      "execution_count": 6,
      "outputs": []
    },
    {
      "cell_type": "code",
      "metadata": {
        "id": "XEM_fvFHSK-M"
      },
      "source": [
        "# словарь\n",
        "vocab = Counter()\n",
        "\n",
        "for text in quora.question_text:\n",
        "    vocab.update(preprocess(text))"
      ],
      "execution_count": 7,
      "outputs": []
    },
    {
      "cell_type": "code",
      "metadata": {
        "id": "apFWWGS7SK-M",
        "colab": {
          "base_uri": "https://localhost:8080/"
        },
        "outputId": "05c5b596-e121-432b-d503-25b2d730808f"
      },
      "source": [
        "len(vocab)"
      ],
      "execution_count": 8,
      "outputs": [
        {
          "output_type": "execute_result",
          "data": {
            "text/plain": [
              "273056"
            ]
          },
          "metadata": {
            "tags": []
          },
          "execution_count": 8
        }
      ]
    },
    {
      "cell_type": "code",
      "metadata": {
        "id": "gltC7y47SK-N"
      },
      "source": [
        "# отфильтрованный словарь\n",
        "filtered_vocab = set()\n",
        "\n",
        "for word in vocab:\n",
        "    if vocab[word] > 50:\n",
        "        filtered_vocab.add(word)"
      ],
      "execution_count": 9,
      "outputs": []
    },
    {
      "cell_type": "code",
      "metadata": {
        "id": "8UU3CnndSK-N",
        "colab": {
          "base_uri": "https://localhost:8080/"
        },
        "outputId": "9b76dc2c-be1f-41e9-f023-4af932cf624f"
      },
      "source": [
        "len(filtered_vocab)"
      ],
      "execution_count": 10,
      "outputs": [
        {
          "output_type": "execute_result",
          "data": {
            "text/plain": [
              "14083"
            ]
          },
          "metadata": {
            "tags": []
          },
          "execution_count": 10
        }
      ]
    },
    {
      "cell_type": "code",
      "metadata": {
        "id": "E80pYzKvSK-O"
      },
      "source": [
        "# индексируем слова\n",
        "word2id = {'PAD':0}\n",
        "\n",
        "for word in filtered_vocab:\n",
        "    word2id[word] = len(word2id)"
      ],
      "execution_count": 11,
      "outputs": []
    },
    {
      "cell_type": "code",
      "metadata": {
        "id": "N4ScsxU6SK-O"
      },
      "source": [
        "id2word = {i:word for word, i in word2id.items()}"
      ],
      "execution_count": 12,
      "outputs": []
    },
    {
      "cell_type": "code",
      "metadata": {
        "id": "dHluPA8sSK-O"
      },
      "source": [
        "MAX_LEN = 100"
      ],
      "execution_count": 13,
      "outputs": []
    },
    {
      "cell_type": "code",
      "metadata": {
        "id": "tBM64iRwSK-P"
      },
      "source": [
        "train_dataset, valid_dataset = train_test_split(quora, test_size=0.05)"
      ],
      "execution_count": 14,
      "outputs": []
    },
    {
      "cell_type": "code",
      "metadata": {
        "id": "YvFkvO6vmdII"
      },
      "source": [
        "class Dataset(torch.utils.data.Dataset):\n",
        "\n",
        "    def __init__(self, dataset, word2id, MAX_LEN, text_field, target_field):\n",
        "        \n",
        "        # храним сырой датасет\n",
        "        # еще лучше можно сделать, если считывать из файла при генерации\n",
        "        self.dataset = dataset[text_field].values\n",
        "        \n",
        "        # мы не считаем словарь прямо тут, т.к. нам нужно шерить словарь между трейном и валидацией\n",
        "        self.word2id = word2id\n",
        "        self.MAX_LEN = MAX_LEN\n",
        "        self.length = dataset.shape[0]\n",
        "        # таргеты можно сразу целиком выделить \n",
        "        self.target = torch.Tensor(dataset[target_field].values)\n",
        "\n",
        "    def __len__(self):\n",
        "        # нужно уметь возвращать длину датасета, в нашем случае это просто сделать\n",
        "        # если не загружать данные целиком, а читать из файла - это может быть сложнее\n",
        "        return self.length\n",
        "\n",
        "    def __getitem__(self, index):\n",
        "\n",
        "        # в index будут индексы от 0 до self.length\n",
        "        # по ним мы достанем тексты, предобработаем,переведем в векторы, западим и вернем\n",
        "\n",
        "\n",
        "        tokens = self.preprocess(self.dataset[index]) # токенизируем\n",
        "        ids = [self.word2id[token] for token in tokens if token in self.word2id][:MAX_LEN]\n",
        "        ids = torch.nn.functional.pad(torch.LongTensor(ids), \n",
        "                                (0, self.MAX_LEN-len(ids)), \n",
        "                                mode='constant',\n",
        "                                value=0)\n",
        "\n",
        "        y = self.target[index]\n",
        "\n",
        "        return ids, y\n",
        "\n",
        "    def preprocess(self, text):\n",
        "        tokens = text.lower().split()\n",
        "        tokens = [token.strip(punctuation) for token in tokens]\n",
        "        tokens = [token for token in tokens if token]\n",
        "        return tokens"
      ],
      "execution_count": 15,
      "outputs": []
    },
    {
      "cell_type": "code",
      "metadata": {
        "id": "NaeafPPrSK-P"
      },
      "source": [
        "training_set = Dataset(train_dataset, word2id, MAX_LEN, 'question_text', 'target')\n",
        "training_generator = torch.utils.data.DataLoader(training_set, batch_size=256)\n",
        "\n",
        "valid_set = Dataset(valid_dataset, word2id, MAX_LEN, 'question_text', 'target')\n",
        "valid_generator = torch.utils.data.DataLoader(valid_set, batch_size=256)"
      ],
      "execution_count": 16,
      "outputs": []
    },
    {
      "cell_type": "markdown",
      "metadata": {
        "id": "7-XD9afFN-uj"
      },
      "source": [
        "Добавим два варианта работы с эмбеддингами\n"
      ]
    },
    {
      "cell_type": "code",
      "metadata": {
        "id": "FQFK8mYmtaVU"
      },
      "source": [
        "def my_layer(embedding_dim, emb_type):\n",
        "  if emb_type == 'flatten':\n",
        "    return (nn.Flatten(), embedding_dim*MAX_LEN)\n",
        "  if emb_type == 'mean':\n",
        "    print('mean')\n",
        "    return (lambda x:torch.mean(x, dim=1), embedding_dim)\n",
        "  if emb_type == 'sum':\n",
        "    print('sum')\n",
        "    return (lambda x:torch.sum(x, dim=1), embedding_dim)"
      ],
      "execution_count": 17,
      "outputs": []
    },
    {
      "cell_type": "code",
      "metadata": {
        "id": "oCLNIj3MRm_v"
      },
      "source": [
        "class Clf(nn.Module):\n",
        "    \n",
        "    def __init__(self, vocab_size, embedding_dim, output_dim, emb_type='flatten'):\n",
        "        \n",
        "        super().__init__()          \n",
        "        self.embedding = nn.Embedding(vocab_size, embedding_dim)\n",
        "        self.hidden, linear_input_dim = my_layer(embedding_dim, emb_type)\n",
        "        self.fc = nn.Linear(linear_input_dim, output_dim)\n",
        "        self.act = nn.Sigmoid() # активацию менять даже не пришлось, так как у нас бинарная классификация\n",
        "                                # если классов больше 2, то нужно поставить nn.Softmax()\n",
        "        \n",
        "    def forward(self, text):\n",
        "        \n",
        "        embedded = self.embedding(text)   \n",
        "        hidden = self.hidden(embedded)\n",
        "        dense_outputs=self.fc(hidden)\n",
        "        outputs=self.act(dense_outputs)\n",
        "        \n",
        "        return outputs"
      ],
      "execution_count": 18,
      "outputs": []
    },
    {
      "cell_type": "code",
      "metadata": {
        "id": "pYh1rHcaSK-R"
      },
      "source": [
        "def binary_accuracy(preds, y):\n",
        "    rounded_preds = torch.round(preds)\n",
        "    \n",
        "    correct = (rounded_preds == y).float() \n",
        "    acc = correct.sum() / len(correct)\n",
        "    return acc\n",
        "\n",
        "\n",
        "def train(model, iterator, optimizer, criterion, print_every=1000):\n",
        "    \n",
        "    epoch_loss = 0\n",
        "    epoch_acc = 0\n",
        "    \n",
        "    model.train()  \n",
        "\n",
        "    for i, (texts, ys) in enumerate(iterator):\n",
        "        \n",
        "        optimizer.zero_grad()   \n",
        "        predictions = model(texts.to(device)).squeeze()  \n",
        "        loss = criterion(predictions.float(), ys.to(device).float())        \n",
        "        acc = binary_accuracy(predictions.float(), ys.to(device).float())\n",
        "        loss.backward()     \n",
        "        \n",
        "        optimizer.step()      \n",
        "        \n",
        "        #лосс и еще и метрика теперь\n",
        "        epoch_loss += loss.item()  \n",
        "        epoch_acc += acc.item()\n",
        "        \n",
        "        if not (i+1) % print_every:\n",
        "            print(f'Loss: {epoch_loss/i}; Accuracy: {epoch_acc/i}')\n",
        "        \n",
        "    return epoch_acc / len(iterator)\n",
        "\n",
        "\n",
        "def evaluate(model, iterator, criterion):\n",
        "    \n",
        "    epoch_loss = 0\n",
        "    epoch_acc = 0\n",
        "    \n",
        "    model.eval()  \n",
        "    with torch.no_grad():\n",
        "        for texts, ys in iterator:   \n",
        "\n",
        "            predictions = model(texts.to(device)).squeeze()  \n",
        "            loss = criterion(predictions.float(), ys.to(device).float())        \n",
        "            acc = binary_accuracy(predictions.float(), ys.to(device).float())\n",
        "\n",
        "            epoch_loss += loss.item()  \n",
        "            epoch_acc += acc.item()\n",
        "            \n",
        "    return epoch_acc / len(iterator)"
      ],
      "execution_count": 19,
      "outputs": []
    },
    {
      "cell_type": "markdown",
      "metadata": {
        "id": "P867Ze-YLHkC"
      },
      "source": [
        "Конкатенация"
      ]
    },
    {
      "cell_type": "code",
      "metadata": {
        "id": "HvGnR9Q-SK-R"
      },
      "source": [
        "import torch.optim as optim\n",
        "\n",
        "device = torch.device('cuda' if torch.cuda.is_available() else 'cpu')  \n",
        "model = Clf(len(word2id), 45, 1, emb_type='flatten')\n",
        "\n",
        "optimizer = optim.Adam(model.parameters())\n",
        "criterion = nn.BCELoss() # другой лосс - Binary cross-entropy\n",
        "\n",
        "model = model.to(device)\n",
        "criterion = criterion.to(device)"
      ],
      "execution_count": 20,
      "outputs": []
    },
    {
      "cell_type": "code",
      "metadata": {
        "id": "IctXtL6LSK-S",
        "colab": {
          "base_uri": "https://localhost:8080/"
        },
        "outputId": "e06a192b-14f8-44db-920e-696e13de709f"
      },
      "source": [
        "%%time\n",
        "accs = []\n",
        "accs_eval = []\n",
        "epochs = 3\n",
        "for i in range(epochs):\n",
        "    print(i)\n",
        "    accs.append(train(model, training_generator, optimizer, criterion))\n",
        "    accs_eval.append(evaluate(model, valid_generator, criterion))"
      ],
      "execution_count": 21,
      "outputs": [
        {
          "output_type": "stream",
          "text": [
            "0\n",
            "Loss: 0.1801566802435093; Accuracy: 0.9411442692692693\n",
            "Loss: 0.1641514728655512; Accuracy: 0.9437433560530265\n",
            "Loss: 0.1558017691062585; Accuracy: 0.9453580881127043\n",
            "Loss: 0.15000461538166934; Accuracy: 0.9465540213178295\n",
            "1\n",
            "Loss: 0.12560437813595132; Accuracy: 0.9533869807307307\n",
            "Loss: 0.12430867289247484; Accuracy: 0.9531973017758879\n",
            "Loss: 0.12373657054794196; Accuracy: 0.9532018485328443\n",
            "Loss: 0.12297759909079384; Accuracy: 0.953419995623906\n",
            "2\n",
            "Loss: 0.11903389405321192; Accuracy: 0.9555727602602603\n",
            "Loss: 0.11843216624213433; Accuracy: 0.954963810030015\n",
            "Loss: 0.11821667774617374; Accuracy: 0.9548873061853951\n",
            "Loss: 0.1179854259040243; Accuracy: 0.9549262315578895\n",
            "CPU times: user 1min 47s, sys: 2.9 s, total: 1min 50s\n",
            "Wall time: 1min 50s\n"
          ],
          "name": "stdout"
        }
      ]
    },
    {
      "cell_type": "code",
      "metadata": {
        "id": "DTVPjdibSK-T",
        "colab": {
          "base_uri": "https://localhost:8080/",
          "height": 295
        },
        "outputId": "85258f90-6e61-4b77-9b63-04d6670d9393"
      },
      "source": [
        "plt.plot(np.sqrt(accs))\n",
        "plt.plot(np.sqrt(accs_eval))\n",
        "plt.title('flatten Accuracy')\n",
        "plt.ylabel('Acc')\n",
        "plt.xlabel('epoch')\n",
        "plt.legend(['train', 'val'], loc='upper left')\n",
        "plt.show()"
      ],
      "execution_count": 22,
      "outputs": [
        {
          "output_type": "display_data",
          "data": {
            "image/png": "[encoded data removed]",
            "text/plain": [
              "<Figure size 432x288 with 1 Axes>"
            ]
          },
          "metadata": {
            "tags": [],
            "needs_background": "light"
          }
        }
      ]
    },
    {
      "cell_type": "code",
      "metadata": {
        "id": "lUCa48oeSK-U"
      },
      "source": [
        "preds = []\n",
        "targets = []\n",
        "for texts, ys in valid_generator:\n",
        "    preds += model(texts.to(device)).squeeze().detach().to('cpu').numpy().tolist()\n",
        "    targets += ys.numpy().tolist()"
      ],
      "execution_count": 23,
      "outputs": []
    },
    {
      "cell_type": "markdown",
      "metadata": {
        "id": "KGTy2LngSK-V"
      },
      "source": [
        "Можно вытащить предикты и посчитать все через sklearn"
      ]
    },
    {
      "cell_type": "code",
      "metadata": {
        "id": "7gk1HXbjSK-V"
      },
      "source": [
        "from sklearn.metrics import classification_report"
      ],
      "execution_count": 24,
      "outputs": []
    },
    {
      "cell_type": "code",
      "metadata": {
        "id": "q3ZpIWHUSK-W",
        "colab": {
          "base_uri": "https://localhost:8080/"
        },
        "outputId": "8b3fb04e-a7a0-4e92-8233-436a15afae99"
      },
      "source": [
        "# можно подбирать порог для отнесения к токсичному классу\n",
        "print(classification_report(targets, (np.array(preds) > 0.3).astype(int)))"
      ],
      "execution_count": 25,
      "outputs": [
        {
          "output_type": "stream",
          "text": [
            "              precision    recall  f1-score   support\n",
            "\n",
            "         0.0       0.97      0.97      0.97     61262\n",
            "         1.0       0.60      0.58      0.59      4045\n",
            "\n",
            "    accuracy                           0.95     65307\n",
            "   macro avg       0.79      0.78      0.78     65307\n",
            "weighted avg       0.95      0.95      0.95     65307\n",
            "\n"
          ],
          "name": "stdout"
        }
      ]
    },
    {
      "cell_type": "markdown",
      "metadata": {
        "id": "MBpEKcVgm-HD"
      },
      "source": [
        "Сумма"
      ]
    },
    {
      "cell_type": "code",
      "metadata": {
        "colab": {
          "base_uri": "https://localhost:8080/"
        },
        "id": "2I_AJrpwjfxh",
        "outputId": "064a160c-9572-4a1b-fcfc-36385678da0d"
      },
      "source": [
        "import torch.optim as optim\n",
        "\n",
        "device = torch.device('cuda' if torch.cuda.is_available() else 'cpu')  \n",
        "model = Clf(len(word2id), 30, 1, emb_type='sum')\n",
        "\n",
        "optimizer = optim.Adam(model.parameters(), lr=0.0005)\n",
        "criterion = nn.BCELoss() # другой лосс - Binary cross-entropy\n",
        "\n",
        "model = model.to(device)\n",
        "criterion = criterion.to(device)"
      ],
      "execution_count": 26,
      "outputs": [
        {
          "output_type": "stream",
          "text": [
            "sum\n"
          ],
          "name": "stdout"
        }
      ]
    },
    {
      "cell_type": "code",
      "metadata": {
        "colab": {
          "base_uri": "https://localhost:8080/"
        },
        "id": "bKVtxaYWjfx8",
        "outputId": "2bba468e-7025-45d2-b547-fefcc056e4f7"
      },
      "source": [
        "%%time\n",
        "accs = []\n",
        "accs_eval = []\n",
        "epochs = 3\n",
        "for i in range(epochs):\n",
        "    print(i)\n",
        "    accs.append(train(model, training_generator, optimizer, criterion))\n",
        "    accs_eval.append(evaluate(model, valid_generator, criterion))"
      ],
      "execution_count": 27,
      "outputs": [
        {
          "output_type": "stream",
          "text": [
            "0\n",
            "Loss: 1.56379077699151; Accuracy: 0.9024024024024024\n",
            "Loss: 0.8755431717346465; Accuracy: 0.9207181715857929\n",
            "Loss: 0.6379567945426347; Accuracy: 0.9285048141047015\n",
            "Loss: 0.5160593876010121; Accuracy: 0.9329510111902976\n",
            "1\n",
            "Loss: 0.13893714614279634; Accuracy: 0.9502432119619619\n",
            "Loss: 0.13696867625800713; Accuracy: 0.9501449943721861\n",
            "Loss: 0.13566176744849334; Accuracy: 0.9502763942147382\n",
            "Loss: 0.13427952114258834; Accuracy: 0.9505481839209803\n",
            "2\n",
            "Loss: 0.1277107248778219; Accuracy: 0.9530116053553553\n",
            "Loss: 0.1268081406244133; Accuracy: 0.9527165926713357\n",
            "Loss: 0.12635078028505267; Accuracy: 0.9526391609703234\n",
            "Loss: 0.12573109795769086; Accuracy: 0.9527831176544136\n",
            "CPU times: user 1min 50s, sys: 2.47 s, total: 1min 52s\n",
            "Wall time: 1min 53s\n"
          ],
          "name": "stdout"
        }
      ]
    },
    {
      "cell_type": "code",
      "metadata": {
        "colab": {
          "base_uri": "https://localhost:8080/",
          "height": 295
        },
        "id": "EV5hiq8Mjfx-",
        "outputId": "3e5069b3-1ac5-4b4e-b536-4791d34d8b1a"
      },
      "source": [
        "plt.plot(np.sqrt(accs))\n",
        "plt.plot(np.sqrt(accs_eval))\n",
        "plt.title('sum Accuracy')\n",
        "plt.ylabel('Acc')\n",
        "plt.xlabel('epoch')\n",
        "plt.legend(['train', 'val'], loc='upper left')\n",
        "plt.show()"
      ],
      "execution_count": 28,
      "outputs": [
        {
          "output_type": "display_data",
          "data": {
            "image/png": "[encoded data removed]",
            "text/plain": [
              "<Figure size 432x288 with 1 Axes>"
            ]
          },
          "metadata": {
            "tags": [],
            "needs_background": "light"
          }
        }
      ]
    },
    {
      "cell_type": "code",
      "metadata": {
        "id": "cdsv3uV-jfx_"
      },
      "source": [
        "preds = []\n",
        "targets = []\n",
        "for texts, ys in valid_generator:\n",
        "    preds += model(texts.to(device)).squeeze().detach().to('cpu').numpy().tolist()\n",
        "    targets += ys.numpy().tolist()"
      ],
      "execution_count": 29,
      "outputs": []
    },
    {
      "cell_type": "code",
      "metadata": {
        "colab": {
          "base_uri": "https://localhost:8080/"
        },
        "id": "-CnhmVQCjfyD",
        "outputId": "6306df1a-95d1-4e8a-f2c8-63d9ee787966"
      },
      "source": [
        "# можно подбирать порог для отнесения к токсичному классу\n",
        "print(classification_report(targets, (np.array(preds) > 0.2).astype(int)))"
      ],
      "execution_count": 30,
      "outputs": [
        {
          "output_type": "stream",
          "text": [
            "              precision    recall  f1-score   support\n",
            "\n",
            "         0.0       0.98      0.96      0.97     61262\n",
            "         1.0       0.53      0.70      0.61      4045\n",
            "\n",
            "    accuracy                           0.94     65307\n",
            "   macro avg       0.76      0.83      0.79     65307\n",
            "weighted avg       0.95      0.94      0.95     65307\n",
            "\n"
          ],
          "name": "stdout"
        }
      ]
    },
    {
      "cell_type": "markdown",
      "metadata": {
        "id": "oZ1BCCGqQGQD"
      },
      "source": [
        "Среднее"
      ]
    },
    {
      "cell_type": "code",
      "metadata": {
        "colab": {
          "base_uri": "https://localhost:8080/"
        },
        "id": "BYVfudHgjh1C",
        "outputId": "5fcadfcd-3611-41cf-972d-143439419087"
      },
      "source": [
        "import torch.optim as optim\n",
        "\n",
        "device = torch.device('cuda' if torch.cuda.is_available() else 'cpu')  \n",
        "model = Clf(len(word2id), 30, 1, emb_type='mean')\n",
        "\n",
        "optimizer = optim.Adam(model.parameters())\n",
        "criterion = nn.BCELoss() # другой лосс - Binary cross-entropy\n",
        "\n",
        "model = model.to(device)\n",
        "criterion = criterion.to(device)"
      ],
      "execution_count": 31,
      "outputs": [
        {
          "output_type": "stream",
          "text": [
            "mean\n"
          ],
          "name": "stdout"
        }
      ]
    },
    {
      "cell_type": "code",
      "metadata": {
        "colab": {
          "base_uri": "https://localhost:8080/"
        },
        "id": "cL3fgXjnjh1E",
        "outputId": "741d7c8b-eae0-4671-8ba1-8ec0670e9f91"
      },
      "source": [
        "%%time\n",
        "accs = []\n",
        "accs_eval = []\n",
        "epochs = 3\n",
        "for i in range(epochs):\n",
        "    print(i)\n",
        "    accs.append(train(model, training_generator, optimizer, criterion))\n",
        "    accs_eval.append(evaluate(model, valid_generator, criterion))"
      ],
      "execution_count": 32,
      "outputs": [
        {
          "output_type": "stream",
          "text": [
            "0\n",
            "Loss: 0.26696168447101676; Accuracy: 0.911059496996997\n",
            "Loss: 0.23968203446309289; Accuracy: 0.9247377595047523\n",
            "Loss: 0.2234105185325164; Accuracy: 0.9294452317439147\n",
            "Loss: 0.2092864410590756; Accuracy: 0.9323805560765192\n",
            "1\n",
            "Loss: 0.14821454158446212; Accuracy: 0.9464308058058059\n",
            "Loss: 0.14547404444489018; Accuracy: 0.9468679652326163\n",
            "Loss: 0.143458553072203; Accuracy: 0.9471920327609203\n",
            "Loss: 0.14162284923821247; Accuracy: 0.9475230135658915\n",
            "2\n",
            "Loss: 0.13208625576010458; Accuracy: 0.9511816504004004\n",
            "Loss: 0.13120316664104523; Accuracy: 0.9509364057028514\n",
            "Loss: 0.1305943917583708; Accuracy: 0.9508208465321774\n",
            "Loss: 0.12990007554368396; Accuracy: 0.9508275506376594\n",
            "CPU times: user 1min 48s, sys: 2.41 s, total: 1min 51s\n",
            "Wall time: 1min 51s\n"
          ],
          "name": "stdout"
        }
      ]
    },
    {
      "cell_type": "code",
      "metadata": {
        "colab": {
          "base_uri": "https://localhost:8080/",
          "height": 295
        },
        "id": "-djAuyAjjh1F",
        "outputId": "5e8ea712-b449-4c33-9106-55e26c50e80f"
      },
      "source": [
        "plt.plot(np.sqrt(accs))\n",
        "plt.plot(np.sqrt(accs_eval))\n",
        "plt.title('mean Accuracy')\n",
        "plt.ylabel('Acc')\n",
        "plt.xlabel('epoch')\n",
        "plt.legend(['train', 'val'], loc='upper left')\n",
        "plt.show()"
      ],
      "execution_count": 33,
      "outputs": [
        {
          "output_type": "display_data",
          "data": {
            "image/png": "[encoded data removed]",
            "text/plain": [
              "<Figure size 432x288 with 1 Axes>"
            ]
          },
          "metadata": {
            "tags": [],
            "needs_background": "light"
          }
        }
      ]
    },
    {
      "cell_type": "code",
      "metadata": {
        "id": "yUp3HcWQjh1G"
      },
      "source": [
        "preds = []\n",
        "targets = []\n",
        "for texts, ys in valid_generator:\n",
        "    preds += model(texts.to(device)).squeeze().detach().to('cpu').numpy().tolist()\n",
        "    targets += ys.numpy().tolist()"
      ],
      "execution_count": 34,
      "outputs": []
    },
    {
      "cell_type": "code",
      "metadata": {
        "colab": {
          "base_uri": "https://localhost:8080/"
        },
        "id": "KRQQzl8Yjh1I",
        "outputId": "07788c8c-d004-4843-d271-ab2e01a69f0c"
      },
      "source": [
        "# можно подбирать порог для отнесения к токсичному классу\n",
        "print(classification_report(targets, (np.array(preds) > 0.25).astype(int)))"
      ],
      "execution_count": 35,
      "outputs": [
        {
          "output_type": "stream",
          "text": [
            "              precision    recall  f1-score   support\n",
            "\n",
            "         0.0       0.97      0.97      0.97     61262\n",
            "         1.0       0.57      0.61      0.59      4045\n",
            "\n",
            "    accuracy                           0.95     65307\n",
            "   macro avg       0.77      0.79      0.78     65307\n",
            "weighted avg       0.95      0.95      0.95     65307\n",
            "\n"
          ],
          "name": "stdout"
        }
      ]
    },
    {
      "cell_type": "markdown",
      "metadata": {
        "id": "-ih8hrfRI7_p"
      },
      "source": [
        "Большой разницы как будто бы нет, но получается что лучше всего суммировать"
      ]
    },
    {
      "cell_type": "markdown",
      "metadata": {
        "id": "Zook1I_6TwpJ"
      },
      "source": [
        "Добавим фасттекст и вордтувек"
      ]
    },
    {
      "cell_type": "code",
      "metadata": {
        "id": "ywyuHbsKjh1I"
      },
      "source": [
        "from gensim.models import FastText\n",
        "from gensim.models import Word2Vec"
      ],
      "execution_count": 54,
      "outputs": []
    },
    {
      "cell_type": "code",
      "metadata": {
        "id": "BQsWJ-wmU4jG"
      },
      "source": [
        "texts = train_dataset['question_text'].apply(preprocess).tolist()"
      ],
      "execution_count": 55,
      "outputs": []
    },
    {
      "cell_type": "code",
      "metadata": {
        "colab": {
          "base_uri": "https://localhost:8080/"
        },
        "id": "7i0GIZRdU8yj",
        "outputId": "a14a7d9f-a15c-4dc8-e605-1200c1c07607"
      },
      "source": [
        "%%time\n",
        "ft = FastText(texts, vector_size=100, epochs=3)"
      ],
      "execution_count": 56,
      "outputs": [
        {
          "output_type": "stream",
          "text": [
            "CPU times: user 5min 35s, sys: 1.08 s, total: 5min 36s\n",
            "Wall time: 2min 57s\n"
          ],
          "name": "stdout"
        }
      ]
    },
    {
      "cell_type": "code",
      "metadata": {
        "id": "yUOvpfnyZpth",
        "colab": {
          "base_uri": "https://localhost:8080/"
        },
        "outputId": "da564f68-9aa1-4ea8-e506-93fd6f270bab"
      },
      "source": [
        "%%time\n",
        "w2v = Word2Vec(texts, vector_size=100, epochs=3)"
      ],
      "execution_count": 57,
      "outputs": [
        {
          "output_type": "stream",
          "text": [
            "CPU times: user 1min 47s, sys: 513 ms, total: 1min 48s\n",
            "Wall time: 58.8 s\n"
          ],
          "name": "stdout"
        }
      ]
    },
    {
      "cell_type": "code",
      "metadata": {
        "id": "alJT3R-RdNzp"
      },
      "source": [
        "weights_ft = np.zeros((len(word2id), 100))\n",
        "weights_w2v = np.zeros((len(word2id), 100))\n",
        "\n",
        "for word, i in word2id.items():\n",
        "    # вектор паддинга оставим нулевым\n",
        "    if word == 'PAD':\n",
        "        continue\n",
        "    \n",
        "    try:\n",
        "        weights_ft[i] = ft.wv[word]\n",
        "        weights_w2v[i] = w2v.wv[word]\n",
        "    \n",
        "    \n",
        "    except KeyError:\n",
        "        # для слов, которых нет в модели тоже возьмем какой-то  рандомный вектор\n",
        "        weights_ft[i] = ft.wv['опрагпллирао']\n",
        "        weights_w2v[i] = w2v.wv['опрагпллирао']"
      ],
      "execution_count": 58,
      "outputs": []
    },
    {
      "cell_type": "markdown",
      "metadata": {
        "id": "UBQTH5wUiIaT"
      },
      "source": [
        "кажется объединять эмбеддинги на уровне словаря было бы удобнее"
      ]
    },
    {
      "cell_type": "code",
      "metadata": {
        "id": "l4tp_r7leY0l"
      },
      "source": [
        "class Clf(nn.Module):\n",
        "    \n",
        "    def __init__(self, vocab_size, embedding_dim, output_dim, embeddings_weights_1, embeddings_weights_2, emb_type='flatten'):\n",
        "        \n",
        "        super().__init__()          \n",
        "        self.embedding_1 = nn.Embedding(vocab_size, embedding_dim)\n",
        "        self.embedding_1.from_pretrained(torch.tensor(embeddings_weights_1), freeze=True)\n",
        "        self.embedding_2 = nn.Embedding(vocab_size, embedding_dim)\n",
        "        self.embedding_2.from_pretrained(torch.tensor(embeddings_weights_2), freeze=True)\n",
        "        self.hidden, linear_input_dim = my_layer(embedding_dim, emb_type)\n",
        "        self.fc = nn.Linear(linear_input_dim, output_dim)\n",
        "        self.act = nn.Sigmoid() # активацию менять даже не пришлось, так как у нас бинарная классификация\n",
        "                                # если классов больше 2, то нужно поставить nn.Softmax()\n",
        "        \n",
        "    def forward(self, text):\n",
        "        \n",
        "        embedded_1 = self.embedding_1(text)\n",
        "        embedded_2 = self.embedding_2(text)\n",
        "        # в этом месте объединяем модели\n",
        "        if flag == True:\n",
        "          embedded = torch.cat((embedded_1, embedded_2), dim=1)\n",
        "\n",
        "        else:\n",
        "          embedded = (embedded_1 + embedded_2)/2\n",
        "        hidden = self.hidden(embedded)\n",
        "        dense_outputs=self.fc(hidden)\n",
        "        outputs=self.act(dense_outputs)\n",
        "        \n",
        "        return outputs"
      ],
      "execution_count": 59,
      "outputs": []
    },
    {
      "cell_type": "markdown",
      "metadata": {
        "id": "Csr-6_JVjooH"
      },
      "source": [
        "запускаем с конкатенацией"
      ]
    },
    {
      "cell_type": "code",
      "metadata": {
        "id": "hNwjqf69jjft"
      },
      "source": [
        "flag = True"
      ],
      "execution_count": 60,
      "outputs": []
    },
    {
      "cell_type": "code",
      "metadata": {
        "colab": {
          "base_uri": "https://localhost:8080/"
        },
        "id": "av5Sgg35nOeh",
        "outputId": "a8dca88d-6413-43bd-8fbb-46c8db1832b3"
      },
      "source": [
        "import torch.optim as optim\n",
        "\n",
        "device = torch.device('cuda' if torch.cuda.is_available() else 'cpu')  \n",
        "model = Clf(len(word2id), 30, 1, weights_ft, weights_w2v, emb_type='sum')\n",
        "\n",
        "optimizer = optim.Adam(model.parameters(), lr=0.0005)\n",
        "criterion = nn.BCELoss() # другой лосс - Binary cross-entropy\n",
        "\n",
        "model = model.to(device)\n",
        "criterion = criterion.to(device)"
      ],
      "execution_count": 61,
      "outputs": [
        {
          "output_type": "stream",
          "text": [
            "sum\n"
          ],
          "name": "stdout"
        }
      ]
    },
    {
      "cell_type": "code",
      "metadata": {
        "colab": {
          "base_uri": "https://localhost:8080/"
        },
        "id": "Yg_aCbJjnUn_",
        "outputId": "3bdaa5a8-7e4a-4b41-ccf4-f7bed2c8c6f2"
      },
      "source": [
        "%%time\n",
        "accs = []\n",
        "accs_eval = []\n",
        "epochs = 3\n",
        "for i in range(epochs):\n",
        "    print(i)\n",
        "    accs.append(train(model, training_generator, optimizer, criterion))\n",
        "    accs_eval.append(evaluate(model, valid_generator, criterion))"
      ],
      "execution_count": 62,
      "outputs": [
        {
          "output_type": "stream",
          "text": [
            "0\n",
            "Loss: 0.26713044113583034; Accuracy: 0.9295350037537538\n",
            "Loss: 0.22234039219574311; Accuracy: 0.9352860023761881\n",
            "Loss: 0.20059270192609702; Accuracy: 0.938488610786929\n",
            "Loss: 0.18696969530863533; Accuracy: 0.9408426325331333\n",
            "1\n",
            "Loss: 0.13468406399016505; Accuracy: 0.9517720845845846\n",
            "Loss: 0.1329108247307016; Accuracy: 0.951522636318159\n",
            "Loss: 0.13214708381233392; Accuracy: 0.9515098782927642\n",
            "Loss: 0.13102279315816964; Accuracy: 0.9517310968367092\n",
            "2\n",
            "Loss: 0.12550141551607363; Accuracy: 0.9540829892392393\n",
            "Loss: 0.12465774547448452; Accuracy: 0.9535998467983992\n",
            "Loss: 0.12466718950602323; Accuracy: 0.9533060499333111\n",
            "Loss: 0.12418821259725688; Accuracy: 0.9534239028507127\n",
            "CPU times: user 1min 53s, sys: 5.95 s, total: 1min 59s\n",
            "Wall time: 1min 59s\n"
          ],
          "name": "stdout"
        }
      ]
    },
    {
      "cell_type": "code",
      "metadata": {
        "colab": {
          "base_uri": "https://localhost:8080/",
          "height": 295
        },
        "id": "FxPUIQXfnd1k",
        "outputId": "65da206b-d0a8-4beb-e2d5-47eba4731ca6"
      },
      "source": [
        "plt.plot(np.sqrt(accs))\n",
        "plt.plot(np.sqrt(accs_eval))\n",
        "plt.title('sum Accuracy')\n",
        "plt.ylabel('Acc')\n",
        "plt.xlabel('epoch')\n",
        "plt.legend(['train', 'val'], loc='upper left')\n",
        "plt.show()"
      ],
      "execution_count": 63,
      "outputs": [
        {
          "output_type": "display_data",
          "data": {
            "image/png": "[encoded data removed]",
            "text/plain": [
              "<Figure size 432x288 with 1 Axes>"
            ]
          },
          "metadata": {
            "tags": [],
            "needs_background": "light"
          }
        }
      ]
    },
    {
      "cell_type": "code",
      "metadata": {
        "id": "TUf8acMknd1n"
      },
      "source": [
        "preds = []\n",
        "targets = []\n",
        "for texts, ys in valid_generator:\n",
        "    preds += model(texts.to(device)).squeeze().detach().to('cpu').numpy().tolist()\n",
        "    targets += ys.numpy().tolist()"
      ],
      "execution_count": 64,
      "outputs": []
    },
    {
      "cell_type": "code",
      "metadata": {
        "colab": {
          "base_uri": "https://localhost:8080/"
        },
        "id": "KSUE7Zwfnd1p",
        "outputId": "1971f089-6e73-4cad-87d6-3b4c5c1b6038"
      },
      "source": [
        "print(classification_report(targets, (np.array(preds) > 0.2).astype(int)))"
      ],
      "execution_count": 65,
      "outputs": [
        {
          "output_type": "stream",
          "text": [
            "              precision    recall  f1-score   support\n",
            "\n",
            "         0.0       0.98      0.95      0.97     61262\n",
            "         1.0       0.51      0.74      0.60      4045\n",
            "\n",
            "    accuracy                           0.94     65307\n",
            "   macro avg       0.74      0.85      0.78     65307\n",
            "weighted avg       0.95      0.94      0.94     65307\n",
            "\n"
          ],
          "name": "stdout"
        }
      ]
    },
    {
      "cell_type": "markdown",
      "metadata": {
        "id": "z0ogvKJmqBcE"
      },
      "source": [
        "стало лучше"
      ]
    },
    {
      "cell_type": "markdown",
      "metadata": {
        "id": "XwVqWd5bjuiQ"
      },
      "source": [
        "и со средним"
      ]
    },
    {
      "cell_type": "code",
      "metadata": {
        "id": "EP62fQjTq7A5"
      },
      "source": [
        "flag = False"
      ],
      "execution_count": 66,
      "outputs": []
    },
    {
      "cell_type": "code",
      "metadata": {
        "colab": {
          "base_uri": "https://localhost:8080/"
        },
        "id": "-4pihDzrq7Xe",
        "outputId": "078bd196-06c4-48d7-ed6d-6577b054ba4e"
      },
      "source": [
        "import torch.optim as optim\n",
        "\n",
        "device = torch.device('cuda' if torch.cuda.is_available() else 'cpu')  \n",
        "model = Clf(len(word2id), 30, 1, weights_ft, weights_w2v, emb_type='sum')\n",
        "\n",
        "optimizer = optim.Adam(model.parameters(), lr=0.0005)\n",
        "criterion = nn.BCELoss() # другой лосс - Binary cross-entropy\n",
        "\n",
        "model = model.to(device)\n",
        "criterion = criterion.to(device)"
      ],
      "execution_count": 67,
      "outputs": [
        {
          "output_type": "stream",
          "text": [
            "sum\n"
          ],
          "name": "stdout"
        }
      ]
    },
    {
      "cell_type": "code",
      "metadata": {
        "colab": {
          "base_uri": "https://localhost:8080/"
        },
        "id": "ie7R6RNBq7Xg",
        "outputId": "13a61d58-0c1f-4ef8-8583-0f58d4eb5d91"
      },
      "source": [
        "%%time\n",
        "accs = []\n",
        "accs_eval = []\n",
        "epochs = 3\n",
        "for i in range(epochs):\n",
        "    print(i)\n",
        "    accs.append(train(model, training_generator, optimizer, criterion))\n",
        "    accs_eval.append(evaluate(model, valid_generator, criterion))"
      ],
      "execution_count": 68,
      "outputs": [
        {
          "output_type": "stream",
          "text": [
            "0\n",
            "Loss: 0.25122621366838077; Accuracy: 0.9309152902902903\n",
            "Loss: 0.20937010342848783; Accuracy: 0.9368746873436719\n",
            "Loss: 0.18984960031264939; Accuracy: 0.9400177663387796\n",
            "Loss: 0.17792255266714643; Accuracy: 0.941963029819955\n",
            "1\n",
            "Loss: 0.13282275487770429; Accuracy: 0.9516626001001001\n",
            "Loss: 0.131328832300351; Accuracy: 0.9514229771135568\n",
            "Loss: 0.13040939498495244; Accuracy: 0.9514382398299434\n",
            "Loss: 0.12940469357364623; Accuracy: 0.9516285321330332\n",
            "2\n",
            "Loss: 0.12419812415947427; Accuracy: 0.954028246996997\n",
            "Loss: 0.12363048806309461; Accuracy: 0.9535392696348174\n",
            "Loss: 0.12337125469248825; Accuracy: 0.9533815959486496\n",
            "Loss: 0.12296564975871269; Accuracy: 0.953459067891973\n",
            "CPU times: user 1min 51s, sys: 5.35 s, total: 1min 56s\n",
            "Wall time: 1min 57s\n"
          ],
          "name": "stdout"
        }
      ]
    },
    {
      "cell_type": "code",
      "metadata": {
        "colab": {
          "base_uri": "https://localhost:8080/",
          "height": 295
        },
        "id": "MbdlLawkq7Xh",
        "outputId": "ce9dc48c-b12b-445e-9da3-5726211756f2"
      },
      "source": [
        "plt.plot(np.sqrt(accs))\n",
        "plt.plot(np.sqrt(accs_eval))\n",
        "plt.title('sum Accuracy')\n",
        "plt.ylabel('Acc')\n",
        "plt.xlabel('epoch')\n",
        "plt.legend(['train', 'val'], loc='upper left')\n",
        "plt.show()"
      ],
      "execution_count": 69,
      "outputs": [
        {
          "output_type": "display_data",
          "data": {
            "image/png": "[encoded data removed]",
            "text/plain": [
              "<Figure size 432x288 with 1 Axes>"
            ]
          },
          "metadata": {
            "tags": [],
            "needs_background": "light"
          }
        }
      ]
    },
    {
      "cell_type": "code",
      "metadata": {
        "id": "ixRVmGFcq7Xi"
      },
      "source": [
        "preds = []\n",
        "targets = []\n",
        "for texts, ys in valid_generator:\n",
        "    preds += model(texts.to(device)).squeeze().detach().to('cpu').numpy().tolist()\n",
        "    targets += ys.numpy().tolist()"
      ],
      "execution_count": 70,
      "outputs": []
    },
    {
      "cell_type": "code",
      "metadata": {
        "colab": {
          "base_uri": "https://localhost:8080/"
        },
        "id": "fjcm7lpTq7Xk",
        "outputId": "f9fe20d7-c2cc-4d9a-c296-1824fe871e74"
      },
      "source": [
        "print(classification_report(targets, (np.array(preds) > 0.2).astype(int)))"
      ],
      "execution_count": 71,
      "outputs": [
        {
          "output_type": "stream",
          "text": [
            "              precision    recall  f1-score   support\n",
            "\n",
            "         0.0       0.98      0.96      0.97     61262\n",
            "         1.0       0.54      0.71      0.61      4045\n",
            "\n",
            "    accuracy                           0.94     65307\n",
            "   macro avg       0.76      0.83      0.79     65307\n",
            "weighted avg       0.95      0.94      0.95     65307\n",
            "\n"
          ],
          "name": "stdout"
        }
      ]
    },
    {
      "cell_type": "markdown",
      "metadata": {
        "id": "0gsnSWHSu1Zm"
      },
      "source": [
        "со склеиванием результаты были лучше"
      ]
    },
    {
      "cell_type": "code",
      "metadata": {
        "id": "LRPCcpv9yeXp"
      },
      "source": [
        ""
      ],
      "execution_count": null,
      "outputs": []
    }
  ]
}