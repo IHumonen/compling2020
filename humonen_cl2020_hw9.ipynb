{
  "nbformat": 4,
  "nbformat_minor": 0,
  "metadata": {
    "colab": {
      "name": "compling_hw9_humonen.ipynb",
      "provenance": [],
      "collapsed_sections": []
    },
    "kernelspec": {
      "display_name": "Python 3",
      "name": "python3"
    },
    "language_info": {
      "name": "python"
    }
  },
  "cells": [
    {
      "cell_type": "markdown",
      "metadata": {
        "id": "mm7ncVSijVGt"
      },
      "source": [
        "## Задание 1 (yargy)"
      ]
    },
    {
      "cell_type": "code",
      "metadata": {
        "colab": {
          "base_uri": "https://localhost:8080/"
        },
        "id": "T2zpGPAm3Sp1",
        "outputId": "8c0380f8-29d3-4368-dab0-94c906d63e25"
      },
      "source": [
        "!pip install yargy"
      ],
      "execution_count": null,
      "outputs": [
        {
          "output_type": "stream",
          "text": [
            "Requirement already satisfied: yargy in /usr/local/lib/python3.7/dist-packages (0.15.0)\n",
            "Requirement already satisfied: pymorphy2 in /usr/local/lib/python3.7/dist-packages (from yargy) (0.9.1)\n",
            "Requirement already satisfied: docopt>=0.6 in /usr/local/lib/python3.7/dist-packages (from pymorphy2->yargy) (0.6.2)\n",
            "Requirement already satisfied: pymorphy2-dicts-ru<3.0,>=2.4 in /usr/local/lib/python3.7/dist-packages (from pymorphy2->yargy) (2.4.417127.4579844)\n",
            "Requirement already satisfied: dawg-python>=0.7.1 in /usr/local/lib/python3.7/dist-packages (from pymorphy2->yargy) (0.7.2)\n"
          ],
          "name": "stdout"
        }
      ]
    },
    {
      "cell_type": "code",
      "metadata": {
        "id": "VbjaOD-SVRpC"
      },
      "source": [
        "from yargy import Parser, rule, or_\n",
        "from yargy.predicates import in_, in_caseless, custom\n",
        "from yargy.tokenizer import MorphTokenizer\n",
        "from yargy.pipelines import morph_pipeline, caseless_pipeline\n",
        "from yargy.interpretation import fact"
      ],
      "execution_count": null,
      "outputs": []
    },
    {
      "cell_type": "code",
      "metadata": {
        "id": "CZ-Vrxh_45oj"
      },
      "source": [
        "import pandas as pd"
      ],
      "execution_count": null,
      "outputs": []
    },
    {
      "cell_type": "code",
      "metadata": {
        "id": "3K4iUQk_5zQT"
      },
      "source": [
        "with open ('avito_cars.txt', 'r') as f:\n",
        "  data = f.read()"
      ],
      "execution_count": null,
      "outputs": []
    },
    {
      "cell_type": "code",
      "metadata": {
        "colab": {
          "base_uri": "https://localhost:8080/"
        },
        "id": "jFxcyI_E57hj",
        "outputId": "3943332b-407e-42d4-a6e3-759556dc2cc9"
      },
      "source": [
        "print(data[:100])"
      ],
      "execution_count": null,
      "outputs": [
        {
          "output_type": "stream",
          "text": [
            "Кондиционер, гидроусилитель руля, электрические стеклоподъемники. Мотор как  на Opel. Дополнительно \n"
          ],
          "name": "stdout"
        }
      ]
    },
    {
      "cell_type": "code",
      "metadata": {
        "id": "tYvctRgy3OOz"
      },
      "source": [
        "Car = fact(\n",
        "    'Car',\n",
        "    ['brand', 'model', 'cross', 'year']\n",
        ")"
      ],
      "execution_count": null,
      "outputs": []
    },
    {
      "cell_type": "code",
      "metadata": {
        "id": "oPXoOfENRHDM"
      },
      "source": [
        "vaz_models = ['2107', 'семёрка', 'семерка', 'ларгус', 'пятнашка', '2115', 'largus', 'kalina', 'priora', 'калина', 'приора' '21110', 'XRay', 'vesta', 'веста', 'гранта', 'granta', '2109', 'девятка']"
      ],
      "execution_count": null,
      "outputs": []
    },
    {
      "cell_type": "code",
      "metadata": {
        "id": "FjQUMKK_Ygs4"
      },
      "source": [
        "vaz_models_true_names = ['2107', '2107', '2107', 'ларгус', '2115', '2115', 'ларгус', 'калина', 'приора', 'калина', 'приора', '21110', 'XRAY', 'веста', 'веста', 'гранта', 'гранта', '2109', '2109']\n",
        "vaz_models_dict = dict(zip(vaz_models, vaz_models_true_names))"
      ],
      "execution_count": null,
      "outputs": []
    },
    {
      "cell_type": "code",
      "metadata": {
        "id": "QTSF6pyBwn42"
      },
      "source": [
        "KEY = or_(\n",
        "    rule('г', '.', 'в', '.'),\n",
        "    rule('год'),\n",
        "    rule('года'),\n",
        "    rule('год', 'выпуска'),\n",
        "    rule('года', 'выпуска')\n",
        "\n",
        ").named('KEY')\n",
        "predicate = custom(lambda x: str.isdigit(x))\n",
        "VALUE = predicate.named('VALUE')\n",
        "year = rule(\n",
        "    KEY,\n",
        "    VALUE\n",
        ").named('year')\n",
        "#YEAR.normalized.as_bnf"
      ],
      "execution_count": null,
      "outputs": []
    },
    {
      "cell_type": "code",
      "metadata": {
        "id": "wJJ6lLzd3uPD"
      },
      "source": [
        "vaz = rule(\n",
        "    morph_pipeline(['ВАЗ', 'Лада', \"Жигули\", 'Lada']).interpretation(Car.brand.const('ВАЗ/Лада')),\n",
        "    morph_pipeline(vaz_models_dict).interpretation(Car.model.normalized().custom(vaz_models_dict.get)),\n",
        "    morph_pipeline(['Cross']).interpretation(Car.cross.normalized()).optional(),\n",
        "    year.interpretation(Car.year.normalized()).optional()\n",
        "    )\n",
        "#.custom({'г.в.' : 'год выпуска', 'г.в.' : 'год', 'год выпуск' : 'год выпуска'}.get)\n",
        "\n",
        "volvo = rule(\n",
        "    morph_pipeline(['volvo', 'вольво']).interpretation(Car.brand.const('volvo')),\n",
        "    morph_pipeline(['xc90', 'xc70', 's60', 'xc40', 'v60', 'v90', 's90', 's80', '740', '760', '940', '960', 'c30']).interpretation(Car.model),\n",
        "    morph_pipeline(['Cross Country']).interpretation(Car.cross.normalized()).optional(),\n",
        "    year.interpretation(Car.year.normalized()).optional()\n",
        "    )\n",
        "Car = or_(vaz, volvo).interpretation(Car)\n",
        "\n",
        "parser = Parser(Car)"
      ],
      "execution_count": null,
      "outputs": []
    },
    {
      "cell_type": "code",
      "metadata": {
        "colab": {
          "background_save": true
        },
        "id": "_X1PXpul40ZD",
        "outputId": "87189e35-122f-472b-9012-cdd813337fa2"
      },
      "source": [
        "%%time\n",
        "matches_raw = list(parser.findall(data))"
      ],
      "execution_count": null,
      "outputs": [
        {
          "output_type": "stream",
          "text": [
            "CPU times: user 2min 24s, sys: 6.61 s, total: 2min 31s\n",
            "Wall time: 2min 31s\n"
          ],
          "name": "stdout"
        }
      ]
    },
    {
      "cell_type": "code",
      "metadata": {
        "colab": {
          "background_save": true
        },
        "id": "sSURIPHtDQCr"
      },
      "source": [
        "matches = []\n",
        "for match in matches_raw:\n",
        "  matches.append(match.fact)"
      ],
      "execution_count": null,
      "outputs": []
    },
    {
      "cell_type": "code",
      "metadata": {
        "colab": {
          "background_save": true
        },
        "id": "OPfYzHkJ-FuW",
        "outputId": "58c4d819-3951-4f98-c7ea-5a40ab8d0259"
      },
      "source": [
        " len(matches)"
      ],
      "execution_count": null,
      "outputs": [
        {
          "output_type": "execute_result",
          "data": {
            "text/plain": [
              "1366"
            ]
          },
          "metadata": {
            "tags": []
          },
          "execution_count": 0
        }
      ]
    },
    {
      "cell_type": "code",
      "metadata": {
        "colab": {
          "background_save": true
        },
        "id": "RfTw8MOgBt80"
      },
      "source": [
        "matches = set(matches)"
      ],
      "execution_count": null,
      "outputs": []
    },
    {
      "cell_type": "code",
      "metadata": {
        "colab": {
          "background_save": true
        },
        "id": "f024AAdsDbp-",
        "outputId": "712b8ef0-94ef-4002-c173-6dbc1e6f1185"
      },
      "source": [
        "len(matches)"
      ],
      "execution_count": null,
      "outputs": [
        {
          "output_type": "execute_result",
          "data": {
            "text/plain": [
              "36"
            ]
          },
          "metadata": {
            "tags": []
          },
          "execution_count": 0
        }
      ]
    },
    {
      "cell_type": "code",
      "metadata": {
        "colab": {
          "background_save": true
        },
        "id": "zrrzUj-19ouy",
        "outputId": "87a25721-3727-4d86-a567-2f1b6352eb85"
      },
      "source": [
        "i = 1\n",
        "for match in matches:\n",
        "    if match.cross == None:\n",
        "      match.cross = ''\n",
        "    if match.year == None:\n",
        "      match.year = ''\n",
        "    print(i, match.brand, match.model, match.cross, match.year)\n",
        "    i += 1"
      ],
      "execution_count": null,
      "outputs": [
        {
          "output_type": "stream",
          "text": [
            "1 ВАЗ/Лада 2115  год 2009\n",
            "2 volvo S60  \n",
            "3 ВАЗ/Лада веста  год выпуск 2017\n",
            "4 ВАЗ/Лада калина  \n",
            "5 volvo XC 70  \n",
            "6 ВАЗ/Лада 2107  г.в.1986\n",
            "7 volvo XC 90  \n",
            "8 ВАЗ/Лада ларгус Cross \n",
            "9 ВАЗ/Лада 2107  год выпуск 2006\n",
            "10 ВАЗ/Лада гранта  \n",
            "11 volvo S80  \n",
            "12 ВАЗ/Лада 2115  год выпуск 2009\n",
            "13 ВАЗ/Лада XRAY  \n",
            "14 ВАЗ/Лада 2107  год выпуск 2011\n",
            "15 volvo 740  \n",
            "16 ВАЗ/Лада приора  \n",
            "17 volvo xc90  \n",
            "18 ВАЗ/Лада 2107  год 2001\n",
            "19 ВАЗ/Лада ларгус  год выпуск 2012\n",
            "20 volvo XC90  \n",
            "21 volvo s80  \n",
            "22 ВАЗ/Лада 2115  год выпуск 2008\n",
            "23 ВАЗ/Лада калина  год выпуск 2017\n",
            "24 ВАЗ/Лада 2115  \n",
            "25 volvo XC70  \n",
            "26 volvo C30  \n",
            "27 ВАЗ/Лада ларгус  \n",
            "28 volvo s 80  \n",
            "29 ВАЗ/Лада 2107  год 2005\n",
            "30 ВАЗ/Лада 2107  \n",
            "31 ВАЗ/Лада 2107  год 2004\n",
            "32 ВАЗ/Лада веста  \n",
            "33 ВАЗ/Лада 21110  \n",
            "34 ВАЗ/Лада калина Cross \n",
            "35 volvo 940  \n",
            "36 ВАЗ/Лада 2107  год выпуск 1985\n"
          ],
          "name": "stdout"
        }
      ]
    }
  ]
}