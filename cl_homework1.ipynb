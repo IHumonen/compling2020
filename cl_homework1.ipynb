{
 "cells": [
  {
   "cell_type": "code",
   "execution_count": 1,
   "metadata": {},
   "outputs": [],
   "source": [
    "import re\n",
    "import string\n",
    "\n",
    "import razdel\n",
    "import nltk\n",
    "import pandas as pd\n",
    "import pymorphy2\n",
    "import pymystem3\n",
    "from nltk.stem.snowball import SnowballStemmer\n",
    "from rusenttokenize import ru_sent_tokenize"
   ]
  },
  {
   "cell_type": "code",
   "execution_count": 2,
   "metadata": {},
   "outputs": [],
   "source": [
    "class BasicForm:                                     #основа или лемма\n",
    "    def __init__(self, basic_form, frequency, form):\n",
    "        self.basic_form = basic_form\n",
    "        self.frequency = frequency\n",
    "        self.forms = set([form])\n",
    "        \n",
    "    def match(self):\n",
    "        for wordform in self.forms:\n",
    "            if self.basic_form == wordform:\n",
    "                return True\n",
    "        return False"
   ]
  },
  {
   "cell_type": "code",
   "execution_count": 3,
   "metadata": {},
   "outputs": [],
   "source": [
    "class PymorphyMorpher:    \n",
    "    def __init__(self):\n",
    "        self.morpher = pymorphy2.MorphAnalyzer()\n",
    "        self.cash = {}\n",
    "    def normal_form(self, word):\n",
    "        if word in self.cash:\n",
    "            lemma = self.cash[word]\n",
    "        else:\n",
    "                lemma = self.morpher.parse(word)[0].normal_form\n",
    "                self.cash[word] = lemma\n",
    "        return lemma"
   ]
  },
  {
   "cell_type": "code",
   "execution_count": 4,
   "metadata": {},
   "outputs": [],
   "source": [
    "def remove_objects(text, pattern):\n",
    "    text = re.sub(pattern, ' ', text)\n",
    "    text = re.sub('  +', ' ',text)\n",
    "    return text"
   ]
  },
  {
   "cell_type": "code",
   "execution_count": 5,
   "metadata": {},
   "outputs": [],
   "source": [
    "def normalization(tokens, normalizator, mystem=False):\n",
    "    normalized = {}\n",
    "    for token in tokens:\n",
    "        if mystem:\n",
    "            try:\n",
    "                basic_form = normalizator(token)\n",
    "            except:\n",
    "                basic_form = token['text']\n",
    "            token = token['text']\n",
    "        else:\n",
    "            token = token.text\n",
    "            basic_form = normalizator(token)\n",
    "        if basic_form in normalized:\n",
    "            normalized[basic_form].frequency += 1\n",
    "            normalized[basic_form].forms.add(token)\n",
    "        else:\n",
    "            normalized[basic_form] = BasicForm(basic_form, 1, token)\n",
    "    return normalized"
   ]
  },
  {
   "cell_type": "code",
   "execution_count": 47,
   "metadata": {},
   "outputs": [],
   "source": [
    "def comparison(tag_value):\n",
    "    d = {}\n",
    "    counter_pymorphy = 0\n",
    "    counter_mystem = 0\n",
    "    summa = 0\n",
    "    for lemma in lemmas_pymorphy:\n",
    "        if lemma in lemmas_mystem:\n",
    "            if tag_value in pymorhy_morpher.morpher.parse(lemma)[0].tag:\n",
    "                summa += 1\n",
    "                if lemmas_pymorphy[lemma].forms < lemmas_mystem[lemma].forms:\n",
    "                    counter_mystem += 1\n",
    "                if lemmas_pymorphy[lemma].forms > lemmas_mystem[lemma].forms:\n",
    "                    counter_pymorphy += 1\n",
    "    d = {'mystem увидел больше форм' : counter_mystem, 'pymorphy увидел больше форм' : counter_pymorphy, 'всего' : summa}\n",
    "#    for key in d:\n",
    "#        print(key, d[key])\n",
    "    return d"
   ]
  },
  {
   "cell_type": "markdown",
   "metadata": {},
   "source": [
    "Открываю текст"
   ]
  },
  {
   "cell_type": "code",
   "execution_count": 6,
   "metadata": {},
   "outputs": [],
   "source": [
    "zhivago = 'zhivago.txt'\n",
    "with open(zhivago, 'r', encoding='utf-8') as file:\n",
    "    text = file.read()"
   ]
  },
  {
   "cell_type": "code",
   "execution_count": 7,
   "metadata": {},
   "outputs": [
    {
     "data": {
      "text/plain": [
       "'<author><first-name>Борис</first-name><middle-name>Леонидович</middle-name><last-name>Пастернак</last-name></author>\\n<book-title>Доктор Живаго</book-title>\\n<annotation><p>«Доктор Живаго» - итоговое произведение Бориса Пастернака, книга всей его жизни. Этот роман принес его автору мировую известность и Нобелевскую премию, присуждение которой обернулось для поэта оголтелой политической травлей, обвинениями в «измене Родине» и в результате стоило ему жизни.</p>\\n<p>«Доктор Живаго» - роман, сама ткань которого убедительнее свидетельствует о чуде, чем все размышления доктора и обобщения автора. Человек, который так пишет, бесконечно много пережил и передумал, и главные его чувства на свете  - восхищенное умиление и слезное сострадание; конечно, есть в его мире место и презрению, и холодному отстранению  - но не в них суть. Роман Пастернака  - оплакивание прежних заблуждений и их жертв; те, кто не разделяет молитвенного восторга перед миром, достойны прежде всего жалости. Перечитывать «Доктор'"
      ]
     },
     "execution_count": 7,
     "metadata": {},
     "output_type": "execute_result"
    }
   ],
   "source": [
    "text[:1000]"
   ]
  },
  {
   "cell_type": "markdown",
   "metadata": {},
   "source": [
    "1) Чищу от мусора"
   ]
  },
  {
   "cell_type": "code",
   "execution_count": 8,
   "metadata": {},
   "outputs": [],
   "source": [
    "tag_pattern = \"<.+?>\"\n",
    "xa0_pattern = \"\\xa0\"\n",
    "litres_pattern = 'Litres.ru|litres.ru|Downloader'\n",
    "patterns = [tag_pattern, xa0_pattern, litres_pattern]"
   ]
  },
  {
   "cell_type": "code",
   "execution_count": 9,
   "metadata": {},
   "outputs": [],
   "source": [
    "text = re.sub(\"\\n\", ' ', text)\n",
    "for pattern in patterns:\n",
    "    text = remove_objects(text, pattern)"
   ]
  },
  {
   "cell_type": "code",
   "execution_count": 10,
   "metadata": {},
   "outputs": [
    {
     "data": {
      "text/plain": [
       "' Борис Леонидович Пастернак Доктор Живаго «Доктор Живаго» - итоговое произведение Бориса Пастернака, книга всей его жизни. Этот роман принес его автору мировую известность и Нобелевскую премию, присуждение которой обернулось для поэта оголтелой политической травлей, обвинениями в «измене Родине» и в результате стоило ему жизни. «Доктор Живаго» - роман, сама ткань которого убедительнее свидетельствует о чуде, чем все размышления доктора и обобщения автора. Человек, который так пишет, бесконечно много пережил и передумал, и главные его чувства на свете - восхищенное умиление и слезное сострадание; конечно, есть в его мире место и презрению, и холодному отстранению - но не в них суть. Роман Пастернака - оплакивание прежних заблуждений и их жертв; те, кто не разделяет молитвенного восторга перед миром, достойны прежде всего жалости. Перечитывать «Доктора Живаго» стоит именно тогда, когда кажется, что жить не стоит. Тогда десять строк из этого романа могут сделать то же, что делает любовь в'"
      ]
     },
     "execution_count": 10,
     "metadata": {},
     "output_type": "execute_result"
    }
   ],
   "source": [
    "text[:1000]"
   ]
  },
  {
   "cell_type": "markdown",
   "metadata": {},
   "source": [
    "2) Разбиваю на предложения, удаляю пунктуацию и токенизирую"
   ]
  },
  {
   "cell_type": "code",
   "execution_count": 11,
   "metadata": {},
   "outputs": [],
   "source": [
    "sentences = ru_sent_tokenize(text)"
   ]
  },
  {
   "cell_type": "code",
   "execution_count": 12,
   "metadata": {},
   "outputs": [
    {
     "data": {
      "text/plain": [
       "14679"
      ]
     },
     "execution_count": 12,
     "metadata": {},
     "output_type": "execute_result"
    }
   ],
   "source": [
    "len(sentences)"
   ]
  },
  {
   "cell_type": "code",
   "execution_count": 13,
   "metadata": {},
   "outputs": [
    {
     "data": {
      "text/plain": [
       "['Борис Леонидович Пастернак Доктор Живаго «Доктор Живаго» - итоговое произведение Бориса Пастернака, книга всей его жизни.',\n",
       " 'Этот роман принес его автору мировую известность и Нобелевскую премию, присуждение которой обернулось для поэта оголтелой политической травлей, обвинениями в «измене Родине» и в результате стоило ему жизни.',\n",
       " '«Доктор Живаго» - роман, сама ткань которого убедительнее свидетельствует о чуде, чем все размышления доктора и обобщения автора.',\n",
       " 'Человек, который так пишет, бесконечно много пережил и передумал, и главные его чувства на свете - восхищенное умиление и слезное сострадание; конечно, есть в его мире место и презрению, и холодному отстранению - но не в них суть.',\n",
       " 'Роман Пастернака - оплакивание прежних заблуждений и их жертв; те, кто не разделяет молитвенного восторга перед миром, достойны прежде всего жалости.',\n",
       " 'Перечитывать «Доктора Живаго» стоит именно тогда, когда кажется, что жить не стоит.',\n",
       " 'Тогда десять строк из этого романа могут сделать то же, что делает любовь в одном из стихотворений доктора: «Жизнь вернулась так же беспричинно, как когда-то странно прервалась» .',\n",
       " 'ru Litres Litres 17.04.2008 litres-134194 1.0 Борис Пастернак Доктор Живаго И ДЫШАТ ПОЧВА И СУДЬБА Спустя два года после завершения романа «Доктор Живаго» Борис Пастернак писал: «Я думаю, несмотря на привычность всего того, что продолжает стоять перед нашими глазами и что мы продолжаем слышать и читать, ничего этого больше нет, это уже прошло и состоялось, огромный, неслыханных сил стоивший период закончился и миновал.',\n",
       " 'Освободилось безмерно большое, покамест пустое и не занятое место для нового и еще не бывалого, для того, что будет угадано чьей-либо гениальной независимостью и свежестью, для того, что внушит и подскажет жизнь новых чисел и дней.',\n",
       " 'Сейчас мукою художников будет не то, признаны ли они и признаны ли будут застаивающейся, запоздалой политической современностью или властью, но неспособность совершенно оторваться от понятий, ставших привычными, забыть навязывающиеся навыки, нарушить непрерывность.']"
      ]
     },
     "execution_count": 13,
     "metadata": {},
     "output_type": "execute_result"
    }
   ],
   "source": [
    "sentences[:10]"
   ]
  },
  {
   "cell_type": "code",
   "execution_count": 14,
   "metadata": {},
   "outputs": [],
   "source": [
    "punctuation = string.punctuation\n",
    "in_ ='-'\n",
    "out = '—'\n",
    "table = str.maketrans(in_, out)\n",
    "punctuation = punctuation.translate(table)\n",
    "addition =  ['\\ufeff', '…', '«', '»', '“', '”', '«', '»']\n",
    "addition = ''.join(addition)\n",
    "punctuation += addition"
   ]
  },
  {
   "cell_type": "code",
   "execution_count": 15,
   "metadata": {},
   "outputs": [],
   "source": [
    "#text = text.strip(punctuation) так почему-то не сработало\n",
    "text = text.lower()\n",
    "deleting_table = str.maketrans('', '', punctuation)\n",
    "text = text.translate(deleting_table)\n",
    "text = remove_objects(text, ' - ')"
   ]
  },
  {
   "cell_type": "code",
   "execution_count": 16,
   "metadata": {},
   "outputs": [
    {
     "data": {
      "text/plain": [
       "' борис леонидович пастернак доктор живаго доктор живаго итоговое произведение бориса пастернака книга всей его жизни этот роман принес его автору мировую известность и нобелевскую премию присуждение которой обернулось для поэта оголтелой политической травлей обвинениями в измене родине и в результате стоило ему жизни доктор живаго роман сама ткань которого убедительнее свидетельствует о чуде чем все размышления доктора и обобщения автора человек который так пишет бесконечно много пережил и передумал и главные его чувства на свете восхищенное умиление и слезное сострадание конечно есть в его мире место и презрению и холодному отстранению но не в них суть роман пастернака оплакивание прежних заблуждений и их жертв те кто не разделяет молитвенного восторга перед миром достойны прежде всего жалости перечитывать доктора живаго стоит именно тогда когда кажется что жить не стоит тогда десять строк из этого романа могут сделать то же что делает любовь в одном из стихотворений доктора жизнь вер'"
      ]
     },
     "execution_count": 16,
     "metadata": {},
     "output_type": "execute_result"
    }
   ],
   "source": [
    "text[:1000]"
   ]
  },
  {
   "cell_type": "code",
   "execution_count": 17,
   "metadata": {},
   "outputs": [],
   "source": [
    "tokens = list(razdel.tokenize(text))"
   ]
  },
  {
   "cell_type": "code",
   "execution_count": 18,
   "metadata": {},
   "outputs": [
    {
     "data": {
      "text/plain": [
       "162324"
      ]
     },
     "execution_count": 18,
     "metadata": {},
     "output_type": "execute_result"
    }
   ],
   "source": [
    "len(tokens)"
   ]
  },
  {
   "cell_type": "markdown",
   "metadata": {},
   "source": [
    "Повторяющиеся предложения:"
   ]
  },
  {
   "cell_type": "code",
   "execution_count": 19,
   "metadata": {},
   "outputs": [
    {
     "name": "stdout",
     "output_type": "stream",
     "text": [
      "14679 14490\n"
     ]
    }
   ],
   "source": [
    "print(len(sentences), len(set(sentences)))"
   ]
  },
  {
   "cell_type": "code",
   "execution_count": 20,
   "metadata": {},
   "outputs": [],
   "source": [
    "sentences_dict = {}\n",
    "for sentence in sentences:\n",
    "    if sentence in sentences_dict:\n",
    "        sentences_dict[sentence] += 1\n",
    "    else:\n",
    "        sentences_dict[sentence] = 1"
   ]
  },
  {
   "cell_type": "code",
   "execution_count": 21,
   "metadata": {},
   "outputs": [
    {
     "name": "stdout",
     "output_type": "stream",
     "text": [
      "А? 7\n",
      "Ха-ха-ха! 3\n",
      "– Знаю. 4\n",
      "– Да. 10\n",
      "– А как же. 3\n",
      "Не правда ли? 9\n",
      "Конечно. 3\n",
      "Где он? 3\n",
      "Погоди. 3\n",
      "Маркел! 3\n",
      "Но дело не в этом. 3\n",
      "Слушай. 3\n",
      "Пойдем. 3\n",
      "– Хорошо. 6\n",
      "– Нет. 7\n",
      "Да. 10\n",
      "Дядя Воронюк! 3\n",
      "– Разумеется. 4\n",
      "– Еще бы. 3\n",
      "Сеялки. 4\n",
      "Молотилки». 4\n",
      "– Я знаю. 3\n",
      "Ну да! 3\n",
      "Свеча горела на столе, Свеча горела. 3\n"
     ]
    }
   ],
   "source": [
    "for key in sentences_dict.keys():\n",
    "    if sentences_dict[key] > 2:\n",
    "        print(key, sentences_dict[key])"
   ]
  },
  {
   "cell_type": "markdown",
   "metadata": {},
   "source": [
    "Самый частотный токен длиннеe 6 символов:"
   ]
  },
  {
   "cell_type": "code",
   "execution_count": 22,
   "metadata": {},
   "outputs": [],
   "source": [
    "tokens_dict = {}\n",
    "for token in tokens:\n",
    "    token = token.text\n",
    "    if token in tokens_dict:\n",
    "        tokens_dict[token] += 1\n",
    "    else:\n",
    "        tokens_dict[token] = 1"
   ]
  },
  {
   "cell_type": "code",
   "execution_count": 23,
   "metadata": {},
   "outputs": [],
   "source": [
    "frequent_token = ('', 0)\n",
    "for token in tokens_dict.keys():\n",
    "    if len(token) > 6:\n",
    "        if tokens_dict[token] > frequent_token[1]:\n",
    "            frequent_token = (token, tokens_dict[token])"
   ]
  },
  {
   "cell_type": "code",
   "execution_count": 24,
   "metadata": {},
   "outputs": [
    {
     "name": "stdout",
     "output_type": "stream",
     "text": [
      "('андреевич', 289)\n"
     ]
    }
   ],
   "source": [
    "print(frequent_token)"
   ]
  },
  {
   "cell_type": "markdown",
   "metadata": {},
   "source": [
    "3) Стемминг"
   ]
  },
  {
   "cell_type": "code",
   "execution_count": 25,
   "metadata": {},
   "outputs": [],
   "source": [
    "stemmer = SnowballStemmer('russian')"
   ]
  },
  {
   "cell_type": "code",
   "execution_count": 26,
   "metadata": {},
   "outputs": [],
   "source": [
    "stems = normalization(tokens, stemmer.stem)"
   ]
  },
  {
   "cell_type": "markdown",
   "metadata": {},
   "source": [
    "Разные слова с одинаковой (по мнению стеммера) основой:"
   ]
  },
  {
   "cell_type": "code",
   "execution_count": 27,
   "metadata": {},
   "outputs": [],
   "source": [
    "#тут конечно можно было использовать морфер, но задание про него идёт позже\n",
    "for stem in stems.keys():\n",
    "    if len(stems[stem].forms) > 10:\n",
    "        pass\n",
    "#        print(stem, '\\n', stems[stem].forms) #слишком большой вывод"
   ]
  },
  {
   "cell_type": "code",
   "execution_count": 28,
   "metadata": {},
   "outputs": [
    {
     "name": "stdout",
     "output_type": "stream",
     "text": [
      "сто \n",
      " {'стоивший', 'стоил', 'стоя', 'стоившую', 'стоим', 'сто', 'стоило', 'стоят', 'стоили', 'стой', 'стоишь', 'стоится', 'стою', 'стоит'}\n",
      "год \n",
      " {'года', 'годами', 'годам', 'годов', 'годился', 'годится', 'годом', 'год', 'годилось', 'году', 'годы', 'годившееся'}\n",
      "ран \n",
      " {'ранило', 'раннего', 'раннему', 'ранен', 'ранее', 'рань', 'раннею', 'ранить', 'ранней', 'раны', 'ране', 'ранила', 'ранних', 'ран', 'раннем', 'ранил', 'ранив', 'рано', 'ранний'}\n",
      "осен \n",
      " {'осенние', 'осени', 'осенила', 'осеннего', 'осенило', 'осень', 'осенью', 'осенний', 'осеннюю', 'осенняя', 'осеннее', 'осеннем'}\n"
     ]
    }
   ],
   "source": [
    "errors_a = ['сто', 'год', 'ран', 'осен']\n",
    "for error in errors_a:\n",
    "    print(error, '\\n', stems[error].forms)"
   ]
  },
  {
   "cell_type": "markdown",
   "metadata": {},
   "source": [
    "Слова, которые (ошибочно) не изменились после стемминга"
   ]
  },
  {
   "cell_type": "code",
   "execution_count": 29,
   "metadata": {},
   "outputs": [],
   "source": [
    "for stem in stems.keys():\n",
    "    stem = stems[stem]\n",
    "    if len(stem.basic_form) > 4 and stem.match() and len(stem.forms) == 1:\n",
    "        pass\n",
    "#        print(stem.basic_form, '\\n', stem.forms, '\\n', stem.frequency) #слишком большой вывод"
   ]
  },
  {
   "cell_type": "code",
   "execution_count": 30,
   "metadata": {},
   "outputs": [],
   "source": [
    "errors_b = ['спичек', 'льдом', 'подушечек', 'плывут']"
   ]
  },
  {
   "cell_type": "code",
   "execution_count": 31,
   "metadata": {},
   "outputs": [
    {
     "name": "stdout",
     "output_type": "stream",
     "text": [
      "спичек спичек\n",
      "льдом льдом\n",
      "подушечек подушечек\n",
      "плывут плывут\n"
     ]
    }
   ],
   "source": [
    "for error in errors_b:\n",
    "    print(error, stemmer.stem(error))"
   ]
  },
  {
   "cell_type": "markdown",
   "metadata": {},
   "source": [
    "4) Стоп-слова из nltk"
   ]
  },
  {
   "cell_type": "code",
   "execution_count": 32,
   "metadata": {},
   "outputs": [],
   "source": [
    "stop_words = nltk.corpus.stopwords.words('russian')"
   ]
  },
  {
   "cell_type": "code",
   "execution_count": 33,
   "metadata": {
    "scrolled": true
   },
   "outputs": [
    {
     "name": "stdout",
     "output_type": "stream",
     "text": [
      "['а', 'без', 'более', 'больше', 'будет', 'будто', 'бы', 'был', 'была', 'были', 'было', 'быть', 'в', 'вам', 'вас', 'вдруг', 'ведь', 'во', 'вот', 'впрочем', 'все', 'всегда', 'всего', 'всех', 'всю', 'вы', 'где', 'да', 'даже', 'два', 'для', 'до', 'другой', 'его', 'ее', 'ей', 'ему', 'если', 'есть', 'еще', 'ж', 'же', 'за', 'зачем', 'здесь', 'и', 'из', 'или', 'им', 'иногда', 'их', 'к', 'как', 'какая', 'какой', 'когда', 'конечно', 'кто', 'куда', 'ли', 'лучше', 'между', 'меня', 'мне', 'много', 'может', 'можно', 'мой', 'моя', 'мы', 'на', 'над', 'надо', 'наконец', 'нас', 'не', 'него', 'нее', 'ней', 'нельзя', 'нет', 'ни', 'нибудь', 'никогда', 'ним', 'них', 'ничего', 'но', 'ну', 'о', 'об', 'один', 'он', 'она', 'они', 'опять', 'от', 'перед', 'по', 'под', 'после', 'потом', 'потому', 'почти', 'при', 'про', 'раз', 'разве', 'с', 'сам', 'свою', 'себе', 'себя', 'сейчас', 'со', 'совсем', 'так', 'такой', 'там', 'тебя', 'тем', 'теперь', 'то', 'тогда', 'того', 'тоже', 'только', 'том', 'тот', 'три', 'тут', 'ты', 'у', 'уж', 'уже', 'хорошо', 'хоть', 'чего', 'чем', 'через', 'что', 'чтоб', 'чтобы', 'чуть', 'эти', 'этого', 'этой', 'этом', 'этот', 'эту', 'я']\n"
     ]
    }
   ],
   "source": [
    "print(sorted(stop_words))"
   ]
  },
  {
   "cell_type": "markdown",
   "metadata": {},
   "source": [
    "Стоп-слова, которые я бы сюда добавил:   \n",
    "«также»: «тоже» есть в списке, а «также» нет, хотя они и не очень сильно различаются  \n",
    "«почему»: синоним слова «зачем» которое есть в списке  \n",
    "«ё-моё» или ещё какие-нибудь ругательные междометия  \n",
    "«однако», «общем-то» и другие слова-паразиты   \n",
    "«либо»  \n",
    "«какое»"
   ]
  },
  {
   "cell_type": "markdown",
   "metadata": {},
   "source": [
    "5) Лемматизация"
   ]
  },
  {
   "cell_type": "markdown",
   "metadata": {},
   "source": [
    "pymorhy"
   ]
  },
  {
   "cell_type": "code",
   "execution_count": 34,
   "metadata": {},
   "outputs": [],
   "source": [
    "pymorhy_morpher = PymorphyMorpher()\n",
    "lemmas_pymorphy = normalization(tokens, pymorhy_morpher.normal_form)"
   ]
  },
  {
   "cell_type": "markdown",
   "metadata": {},
   "source": [
    "mystem"
   ]
  },
  {
   "cell_type": "code",
   "execution_count": 35,
   "metadata": {},
   "outputs": [],
   "source": [
    "mystem_morpher = pymystem3.Mystem()\n",
    "lemmas_mystem_full = mystem_morpher.analyze(text)"
   ]
  },
  {
   "cell_type": "code",
   "execution_count": 36,
   "metadata": {},
   "outputs": [],
   "source": [
    "lemmas_mystem = normalization(lemmas_mystem_full, lambda x: x['analysis'][0]['lex'], mystem=True)"
   ]
  },
  {
   "cell_type": "markdown",
   "metadata": {},
   "source": [
    "Сравнение:"
   ]
  },
  {
   "cell_type": "code",
   "execution_count": 43,
   "metadata": {},
   "outputs": [
    {
     "name": "stdout",
     "output_type": "stream",
     "text": [
      "разные словофрмы соответсвуют одной лемме\n"
     ]
    }
   ],
   "source": [
    "print('разные словофрмы соответсвуют одной лемме')\n",
    "for lemma in lemmas_pymorphy:\n",
    "    if lemma not in lemmas_mystem:\n",
    "        pass\n",
    "    else:\n",
    "        if lemmas_pymorphy[lemma].forms != lemmas_mystem[lemma].forms:\n",
    "            pass\n",
    "#            print('pymorphy:', lemma, lemmas_pymorphy[lemma].forms)  #слишком большой вывод\n",
    "#            print('mystem:', lemma, lemmas_mystem[lemma].forms)\n",
    "#            print('\\n')"
   ]
  },
  {
   "cell_type": "code",
   "execution_count": 44,
   "metadata": {},
   "outputs": [
    {
     "name": "stdout",
     "output_type": "stream",
     "text": [
      "нет в майстем\n"
     ]
    }
   ],
   "source": [
    "print('нет в майстем')\n",
    "for lemma in lemmas_pymorphy:\n",
    "    if lemma not in lemmas_mystem:\n",
    "        pass\n",
    "#        print(lemma)             #слишком большой вывод"
   ]
  },
  {
   "cell_type": "code",
   "execution_count": 54,
   "metadata": {},
   "outputs": [
    {
     "name": "stdout",
     "output_type": "stream",
     "text": [
      "нет в пайморфи\n"
     ]
    }
   ],
   "source": [
    "print('нет в пайморфи')\n",
    "not_in_pymorphy = []\n",
    "for lemma in lemmas_mystem:\n",
    "    if lemma not in lemmas_pymorphy:\n",
    "        not_in_pymorphy.append(lemma)\n",
    "#        print(lemma)               #слишком большой вывод"
   ]
  },
  {
   "cell_type": "markdown",
   "metadata": {},
   "source": [
    "1. Майстем лучше разрешает многозначность, потому что использует контекст, например для слов «полк» и «полка» результат такой, (конечно я не посмотрел все употребления этих слов в тексте, но «Доктор Живаго» в том числе и про войну):"
   ]
  },
  {
   "cell_type": "code",
   "execution_count": 46,
   "metadata": {},
   "outputs": [
    {
     "name": "stdout",
     "output_type": "stream",
     "text": [
      "{'полком', 'полка', 'полк', 'полков', 'полку'}\n",
      "{'полке', 'полками', 'полкой', 'полок'}\n",
      "\n",
      "\n",
      "{'полк'}\n",
      "{'полок', 'полками', 'полке', 'полкой', 'полка', 'полку'}\n"
     ]
    }
   ],
   "source": [
    "print(lemmas_mystem['полк'].forms)\n",
    "print(lemmas_mystem['полка'].forms)\n",
    "print('\\n')\n",
    "print(lemmas_pymorphy['полк'].forms)\n",
    "print(lemmas_pymorphy['полка'].forms)"
   ]
  },
  {
   "cell_type": "markdown",
   "metadata": {},
   "source": [
    "2. Майстем лучше обрабатывает глаголы (cводит больше(по вложению) форм к одному глаголу, будем считать, что это хорошо, потому что неодназначность майстем тоже разрешает лучше):"
   ]
  },
  {
   "cell_type": "code",
   "execution_count": 48,
   "metadata": {},
   "outputs": [
    {
     "data": {
      "text/plain": [
       "{'mystem увидел больше форм': 1027,\n",
       " 'pymorphy увидел больше форм': 57,\n",
       " 'всего': 3635}"
      ]
     },
     "execution_count": 48,
     "metadata": {},
     "output_type": "execute_result"
    }
   ],
   "source": [
    "comparison('INFN')"
   ]
  },
  {
   "cell_type": "markdown",
   "metadata": {},
   "source": [
    "И вообще для всех тегов оперкорпоры майстем сводит больше форм к одной лемме"
   ]
  },
  {
   "cell_type": "code",
   "execution_count": 49,
   "metadata": {},
   "outputs": [],
   "source": [
    "all_tags = set()\n",
    "for lemma in lemmas_pymorphy:\n",
    "    current_tags = pymorhy_morpher.morpher.parse(lemma)[0].tag\n",
    "    current_tags = str(current_tags).split(',')\n",
    "    current_tags_clear = []\n",
    "    for tag in current_tags.copy():\n",
    "        tag = tag.split()\n",
    "        for tag_2 in tag:\n",
    "            current_tags_clear.append(tag_2)\n",
    "    current_tags_clear = set(current_tags_clear)\n",
    "    all_tags = all_tags.union(current_tags_clear)"
   ]
  },
  {
   "cell_type": "code",
   "execution_count": 50,
   "metadata": {},
   "outputs": [],
   "source": [
    "df = pd.DataFrame(all_tags, columns=['tag'])"
   ]
  },
  {
   "cell_type": "code",
   "execution_count": 51,
   "metadata": {},
   "outputs": [],
   "source": [
    "for key in comparison('CONJ'):\n",
    "    df[key] = df['tag'].apply(lambda x: comparison(x)[key])"
   ]
  },
  {
   "cell_type": "code",
   "execution_count": 52,
   "metadata": {},
   "outputs": [
    {
     "data": {
      "text/html": [
       "<div>\n",
       "<style scoped>\n",
       "    .dataframe tbody tr th:only-of-type {\n",
       "        vertical-align: middle;\n",
       "    }\n",
       "\n",
       "    .dataframe tbody tr th {\n",
       "        vertical-align: top;\n",
       "    }\n",
       "\n",
       "    .dataframe thead th {\n",
       "        text-align: right;\n",
       "    }\n",
       "</style>\n",
       "<table border=\"1\" class=\"dataframe\">\n",
       "  <thead>\n",
       "    <tr style=\"text-align: right;\">\n",
       "      <th></th>\n",
       "      <th>tag</th>\n",
       "      <th>mystem увидел больше форм</th>\n",
       "      <th>pymorphy увидел больше форм</th>\n",
       "      <th>всего</th>\n",
       "    </tr>\n",
       "  </thead>\n",
       "  <tbody>\n",
       "    <tr>\n",
       "      <td>0</td>\n",
       "      <td>actv</td>\n",
       "      <td>2</td>\n",
       "      <td>0</td>\n",
       "      <td>6</td>\n",
       "    </tr>\n",
       "    <tr>\n",
       "      <td>1</td>\n",
       "      <td>LATN</td>\n",
       "      <td>0</td>\n",
       "      <td>0</td>\n",
       "      <td>26</td>\n",
       "    </tr>\n",
       "    <tr>\n",
       "      <td>2</td>\n",
       "      <td>Orgn</td>\n",
       "      <td>0</td>\n",
       "      <td>0</td>\n",
       "      <td>8</td>\n",
       "    </tr>\n",
       "    <tr>\n",
       "      <td>3</td>\n",
       "      <td>GRND</td>\n",
       "      <td>2</td>\n",
       "      <td>0</td>\n",
       "      <td>9</td>\n",
       "    </tr>\n",
       "    <tr>\n",
       "      <td>4</td>\n",
       "      <td>gent</td>\n",
       "      <td>36</td>\n",
       "      <td>11</td>\n",
       "      <td>181</td>\n",
       "    </tr>\n",
       "    <tr>\n",
       "      <td>...</td>\n",
       "      <td>...</td>\n",
       "      <td>...</td>\n",
       "      <td>...</td>\n",
       "      <td>...</td>\n",
       "    </tr>\n",
       "    <tr>\n",
       "      <td>78</td>\n",
       "      <td>Pltm</td>\n",
       "      <td>4</td>\n",
       "      <td>3</td>\n",
       "      <td>83</td>\n",
       "    </tr>\n",
       "    <tr>\n",
       "      <td>79</td>\n",
       "      <td>sing</td>\n",
       "      <td>359</td>\n",
       "      <td>207</td>\n",
       "      <td>9994</td>\n",
       "    </tr>\n",
       "    <tr>\n",
       "      <td>80</td>\n",
       "      <td>loct</td>\n",
       "      <td>2</td>\n",
       "      <td>0</td>\n",
       "      <td>21</td>\n",
       "    </tr>\n",
       "    <tr>\n",
       "      <td>81</td>\n",
       "      <td>nomn</td>\n",
       "      <td>287</td>\n",
       "      <td>190</td>\n",
       "      <td>9023</td>\n",
       "    </tr>\n",
       "    <tr>\n",
       "      <td>82</td>\n",
       "      <td>datv</td>\n",
       "      <td>1</td>\n",
       "      <td>0</td>\n",
       "      <td>2</td>\n",
       "    </tr>\n",
       "  </tbody>\n",
       "</table>\n",
       "<p>83 rows × 4 columns</p>\n",
       "</div>"
      ],
      "text/plain": [
       "     tag  mystem увидел больше форм  pymorphy увидел больше форм  всего\n",
       "0   actv                          2                            0      6\n",
       "1   LATN                          0                            0     26\n",
       "2   Orgn                          0                            0      8\n",
       "3   GRND                          2                            0      9\n",
       "4   gent                         36                           11    181\n",
       "..   ...                        ...                          ...    ...\n",
       "78  Pltm                          4                            3     83\n",
       "79  sing                        359                          207   9994\n",
       "80  loct                          2                            0     21\n",
       "81  nomn                        287                          190   9023\n",
       "82  datv                          1                            0      2\n",
       "\n",
       "[83 rows x 4 columns]"
      ]
     },
     "execution_count": 52,
     "metadata": {},
     "output_type": "execute_result"
    }
   ],
   "source": [
    "df"
   ]
  },
  {
   "cell_type": "code",
   "execution_count": 60,
   "metadata": {},
   "outputs": [
    {
     "data": {
      "text/plain": [
       "(83, 4)"
      ]
     },
     "execution_count": 60,
     "metadata": {},
     "output_type": "execute_result"
    }
   ],
   "source": [
    "df.where(df['mystem увидел больше форм'] > df['pymorphy увидел больше форм']).shape"
   ]
  },
  {
   "cell_type": "markdown",
   "metadata": {},
   "source": [
    "Пайморфи пропустил много (на глаз) имён собственных:"
   ]
  },
  {
   "cell_type": "code",
   "execution_count": 55,
   "metadata": {},
   "outputs": [
    {
     "name": "stdout",
     "output_type": "stream",
     "text": [
      "цезарь\n",
      "брусилов\n",
      "александровна\n",
      "памфилова\n",
      "генц\n"
     ]
    }
   ],
   "source": [
    "names = ['цезарь', 'брусилов', 'александровна', 'памфилова', 'генц']\n",
    "for name in names:\n",
    "    if name in not_in_pymorphy:\n",
    "        print(name)"
   ]
  },
  {
   "cell_type": "markdown",
   "metadata": {},
   "source": [
    "Получается майстем лучше"
   ]
  }
 ],
 "metadata": {
  "kernelspec": {
   "display_name": "Python 3",
   "language": "python",
   "name": "python3"
  },
  "language_info": {
   "codemirror_mode": {
    "name": "ipython",
    "version": 3
   },
   "file_extension": ".py",
   "mimetype": "text/x-python",
   "name": "python",
   "nbconvert_exporter": "python",
   "pygments_lexer": "ipython3",
   "version": "3.7.4"
  }
 },
 "nbformat": 4,
 "nbformat_minor": 4
}
