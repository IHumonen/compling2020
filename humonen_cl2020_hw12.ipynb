{
  "nbformat": 4,
  "nbformat_minor": 0,
  "metadata": {
    "colab": {
      "name": "hw12.ipynb",
      "provenance": [],
      "collapsed_sections": []
    },
    "kernelspec": {
      "name": "python3",
      "display_name": "Python 3"
    },
    "language_info": {
      "name": "python"
    },
    "accelerator": "GPU"
  },
  "cells": [
    {
      "cell_type": "code",
      "metadata": {
        "colab": {
          "base_uri": "https://localhost:8080/"
        },
        "id": "1lPzT365XUEf",
        "outputId": "23535d76-03c5-4051-cb2b-a3e4aa3cb832"
      },
      "source": [
        "!apt-get -y install unzip wget"
      ],
      "execution_count": 1,
      "outputs": [
        {
          "output_type": "stream",
          "text": [
            "Reading package lists... Done\n",
            "Building dependency tree       \n",
            "Reading state information... Done\n",
            "unzip is already the newest version (6.0-21ubuntu1.1).\n",
            "wget is already the newest version (1.19.4-1ubuntu2.2).\n",
            "0 upgraded, 0 newly installed, 0 to remove and 39 not upgraded.\n"
          ],
          "name": "stdout"
        }
      ]
    },
    {
      "cell_type": "code",
      "metadata": {
        "id": "nuyipxINpv0B",
        "colab": {
          "base_uri": "https://localhost:8080/"
        },
        "outputId": "39f7dbe5-f4e4-4b79-a895-57eafa8c0666"
      },
      "source": [
        "!unzip data.zip"
      ],
      "execution_count": 2,
      "outputs": [
        {
          "output_type": "stream",
          "text": [
            "Archive:  data.zip\n",
            "replace lenta_sample.csv? [y]es, [n]o, [A]ll, [N]one, [r]ename: n\n",
            "replace __MACOSX/._lenta_sample.csv? [y]es, [n]o, [A]ll, [N]one, [r]ename: n\n"
          ],
          "name": "stdout"
        }
      ]
    },
    {
      "cell_type": "code",
      "metadata": {
        "id": "_jQe_HeRZpnt"
      },
      "source": [
        "import torch\n",
        "import torch.nn as nn\n",
        "import torch.nn.functional as F\n",
        "import torch.optim as optim\n",
        "import torch.utils.data"
      ],
      "execution_count": 3,
      "outputs": []
    },
    {
      "cell_type": "code",
      "metadata": {
        "id": "EkreaAN7ZtEF"
      },
      "source": [
        "import pandas as pd\n",
        "import numpy as np\n",
        "from string import punctuation\n",
        "from sklearn.model_selection import train_test_split\n",
        "from collections import Counter\n",
        "from IPython.display import Image\n",
        "from IPython.core.display import HTML \n",
        "import matplotlib.pyplot as plt\n",
        "%matplotlib inline"
      ],
      "execution_count": 4,
      "outputs": []
    },
    {
      "cell_type": "code",
      "metadata": {
        "id": "_6cBS30lcAle"
      },
      "source": [
        "data = pd.read_csv('lenta_sample.csv')"
      ],
      "execution_count": 5,
      "outputs": []
    },
    {
      "cell_type": "code",
      "metadata": {
        "id": "trm5nSGaW7cB"
      },
      "source": [
        "data['len'] =  data['text'].apply(lambda x: len(x.split()))"
      ],
      "execution_count": 6,
      "outputs": []
    },
    {
      "cell_type": "code",
      "metadata": {
        "colab": {
          "base_uri": "https://localhost:8080/",
          "height": 282
        },
        "id": "onar-n76XI9c",
        "outputId": "f82875b3-5ec2-499a-bf32-24f0477dddbd"
      },
      "source": [
        "data['len'].hist()"
      ],
      "execution_count": 7,
      "outputs": [
        {
          "output_type": "execute_result",
          "data": {
            "text/plain": [
              "<matplotlib.axes._subplots.AxesSubplot at 0x7f0b9e9b3890>"
            ]
          },
          "metadata": {
            "tags": []
          },
          "execution_count": 7
        },
        {
          "output_type": "display_data",
          "data": {
            "image/png": "[encoded data removed]",
            "text/plain": [
              "<Figure size 432x288 with 1 Axes>"
            ]
          },
          "metadata": {
            "tags": [],
            "needs_background": "light"
          }
        }
      ]
    },
    {
      "cell_type": "code",
      "metadata": {
        "id": "tALddvnBiwsm"
      },
      "source": [
        "data.dropna(subset=['topic', 'text'], inplace=True)"
      ],
      "execution_count": 8,
      "outputs": []
    },
    {
      "cell_type": "code",
      "metadata": {
        "id": "2yjBfmdDi3HD"
      },
      "source": [
        "def preprocess(text):\n",
        "    tokens = text.lower().split()\n",
        "    tokens = [token.strip(punctuation) for token in tokens]\n",
        "    return tokens"
      ],
      "execution_count": 9,
      "outputs": []
    },
    {
      "cell_type": "code",
      "metadata": {
        "id": "RXpBLB9qjAKq"
      },
      "source": [
        "# словарь\n",
        "vocab = Counter()\n",
        "\n",
        "for text in data.text:\n",
        "    vocab.update(preprocess(text))\n",
        "\n",
        "# отфильтрованный словарь\n",
        "filtered_vocab = set()\n",
        "\n",
        "for word in vocab:\n",
        "    if vocab[word] > 30:\n",
        "        filtered_vocab.add(word)"
      ],
      "execution_count": 10,
      "outputs": []
    },
    {
      "cell_type": "code",
      "metadata": {
        "id": "wGTlMfOsjARm"
      },
      "source": [
        "# индексируем слова\n",
        "word2id = {'PAD':0}\n",
        "\n",
        "for word in filtered_vocab:\n",
        "    word2id[word] = len(word2id)"
      ],
      "execution_count": 11,
      "outputs": []
    },
    {
      "cell_type": "code",
      "metadata": {
        "id": "NTAJwBxRk2L9"
      },
      "source": [
        "id2word = {i:word for word, i in word2id.items()}"
      ],
      "execution_count": 12,
      "outputs": []
    },
    {
      "cell_type": "code",
      "metadata": {
        "id": "DBgUB8Vsk60W"
      },
      "source": [
        "class Dataset(torch.utils.data.Dataset):\n",
        "\n",
        "    def __init__(self, word2id, MAX_LEN, texts, targets):\n",
        "        \n",
        "        # храним сырой датасет\n",
        "        # еще лучше можно сделать, если считывать из файла при генерации\n",
        "        self.texts = [torch.LongTensor([word2id[w] for w in self.preprocess(t) if w in word2id][:MAX_LEN]) for t in texts]\n",
        "        self.texts = torch.nn.utils.rnn.pad_sequence(self.texts, batch_first=True)\n",
        "        \n",
        "        # мы не считаем словарь прямо тут, т.к. нам нужно шерить словарь между трейном и валидацией\n",
        "        self.word2id = word2id\n",
        "        self.MAX_LEN = MAX_LEN\n",
        "        self.length = len(texts)\n",
        "        # таргеты можно сразу целиком выделить \n",
        "        \n",
        "        self.target = torch.LongTensor(targets)\n",
        "\n",
        "    def __len__(self):\n",
        "        # нужно уметь возвращать длину датасета, в нашем случае это просто сделать\n",
        "        # если не загружать данные целиком, а читать из файла - это может быть сложнее\n",
        "        return self.length\n",
        "\n",
        "    def __getitem__(self, index):\n",
        "\n",
        "        # в index будут индексы от 0 до self.length\n",
        "        # по ним мы достанем тексты, предобработаем,переведем в векторы, западим и вернем\n",
        "\n",
        "        ids = self.texts[index]\n",
        "        y = self.target[index]\n",
        "\n",
        "        return ids, y\n",
        "    \n",
        "    def preprocess(self, text):\n",
        "        tokens = text.lower().split()\n",
        "        tokens = [token.strip(punctuation) for token in tokens]\n",
        "        tokens = [token for token in tokens if token]\n",
        "        return tokens"
      ],
      "execution_count": 13,
      "outputs": []
    },
    {
      "cell_type": "code",
      "metadata": {
        "id": "AXRHzzYek-_h"
      },
      "source": [
        "MAX_LEN = 149"
      ],
      "execution_count": 47,
      "outputs": []
    },
    {
      "cell_type": "code",
      "metadata": {
        "id": "glc0bKYMlIq8"
      },
      "source": [
        "texts = data.text.values\n",
        "id2label = {i:l for i,l in enumerate(set(data.topic))}\n",
        "label2id = {l:i for i,l in id2label.items()}\n",
        "targets = [label2id[l] for l in data.topic]"
      ],
      "execution_count": 48,
      "outputs": []
    },
    {
      "cell_type": "code",
      "metadata": {
        "id": "FTDP0ebFlLWd"
      },
      "source": [
        "train_texts, valid_texts, train_targets, valid_targets = train_test_split(texts, targets, test_size=0.05)"
      ],
      "execution_count": 49,
      "outputs": []
    },
    {
      "cell_type": "code",
      "metadata": {
        "id": "wtTLIxBflO87"
      },
      "source": [
        "training_set = Dataset(word2id, MAX_LEN, train_texts, train_targets)\n",
        "training_generator = torch.utils.data.DataLoader(training_set, batch_size=256, shuffle=True, )"
      ],
      "execution_count": 50,
      "outputs": []
    },
    {
      "cell_type": "code",
      "metadata": {
        "id": "sEF461CYlSnq"
      },
      "source": [
        "valid_set = Dataset(word2id, MAX_LEN, valid_texts, valid_targets)\n",
        "valid_generator = torch.utils.data.DataLoader(valid_set, batch_size=256, shuffle=True)"
      ],
      "execution_count": 51,
      "outputs": []
    },
    {
      "cell_type": "code",
      "metadata": {
        "id": "De2Lx-vqmfP3"
      },
      "source": [
        "from sklearn.metrics import f1_score\n",
        "\n",
        "def train(model, iterator, optimizer, criterion, print_every=1000):\n",
        "    \n",
        "    epoch_loss = []\n",
        "    epoch_f1 = []\n",
        "    \n",
        "    model.train()  \n",
        "\n",
        "    for i, (texts, ys) in enumerate(iterator):\n",
        "        \n",
        "        optimizer.zero_grad()   \n",
        "        predictions = model(texts.to(device)).squeeze()  \n",
        "        loss = criterion(predictions, ys.to(device))        \n",
        "        \n",
        "        \n",
        "        \n",
        "        loss.backward()\n",
        "        optimizer.step()     \n",
        "        preds = predictions.detach().to('cpu').numpy().argmax(1).tolist()\n",
        "        y_true = ys.tolist()\n",
        "        \n",
        "        epoch_loss.append(loss.item())\n",
        "        epoch_f1.append(f1_score(y_true, preds, average=\"micro\"))\n",
        "        \n",
        "        if not (i+1) % print_every:\n",
        "            print(f'Loss: {np.mean(epoch_loss)}; F1 measure: {np.mean(epoch_f1)}')\n",
        "        \n",
        "    return np.mean(epoch_f1)\n",
        "\n",
        "\n",
        "def evaluate(model, iterator, criterion):\n",
        "    \n",
        "    epoch_loss = []\n",
        "    epoch_f1 = []\n",
        "    \n",
        "    model.eval()  \n",
        "    with torch.no_grad():\n",
        "        for texts, ys in iterator:   \n",
        "\n",
        "            predictions = model(texts.to(device)).squeeze()  \n",
        "            loss = criterion(predictions, ys.to(device))        \n",
        "            preds = predictions.detach().to('cpu').numpy().argmax(1).tolist()\n",
        "            y_true = ys.tolist()\n",
        "            \n",
        "\n",
        "            epoch_loss.append(loss.item())  \n",
        "            epoch_f1.append(f1_score(y_true, preds, average=\"micro\"))\n",
        "            \n",
        "    return np.mean(epoch_f1)# / len(iterator)"
      ],
      "execution_count": 52,
      "outputs": []
    },
    {
      "cell_type": "code",
      "metadata": {
        "id": "9cv9bNgBi44f"
      },
      "source": [
        "class Conv_layer_with_pad(nn.Module):\n",
        "    \n",
        "    def __init__(self, in_channels, out_channels, k_size=5, stride=1):\n",
        "        \n",
        "        super().__init__()          \n",
        "        self.KERNEL_SIZE = k_size\n",
        "        self.IN_CHANNELS = in_channels\n",
        "        self.OUT_CHANNELS = out_channels\n",
        "        self.STRIDE = stride\n",
        "        self.conv = nn.Conv1d(self.IN_CHANNELS, \n",
        "                              self.OUT_CHANNELS, \n",
        "                              kernel_size=self.KERNEL_SIZE, \n",
        "                              stride=self.STRIDE, ) \n",
        "        \n",
        "        self.act = nn.LeakyReLU()\n",
        "        \n",
        "    def forward(self, embedded):\n",
        "\n",
        "        MAX_LEN = embedded.size(2)\n",
        "        EXP_LEN = ((MAX_LEN-1)*self.STRIDE)+1+(self.KERNEL_SIZE-1)\n",
        "\n",
        "        # нужно чтобы все сходилось, иначе выдавать ошибку\n",
        "        assert not (EXP_LEN-MAX_LEN)%2, f\"Не ровный паддинг! {EXP_LEN}\"\n",
        "        \n",
        "        padded = F.pad(embedded, (int((EXP_LEN-MAX_LEN)/2), \n",
        "                                                   int((EXP_LEN-MAX_LEN)/2)))\n",
        "        \n",
        "        convoluted = self.conv(padded)\n",
        "\n",
        "        \n",
        "        return self.act(convoluted)"
      ],
      "execution_count": 53,
      "outputs": []
    },
    {
      "cell_type": "code",
      "metadata": {
        "id": "yqGTvScQl__C"
      },
      "source": [
        "class Pool_layer_with_pad(nn.Module):\n",
        "    \n",
        "    def __init__(self, MAX_LEN):\n",
        "        \n",
        "        super().__init__()          \n",
        "        self.KERNEL_SIZE = 2\n",
        "        self.STRIDE = 2\n",
        "                \n",
        "        self.max_pool = nn.MaxPool1d(kernel_size=self.KERNEL_SIZE, \n",
        "                                     stride=self.STRIDE, padding=0)\n",
        "        \n",
        "        self.act = nn.LeakyReLU()\n",
        "        \n",
        "    def forward(self, embedded):\n",
        "        \n",
        "        pooled = self.max_pool(embedded)\n",
        "\n",
        "\n",
        "        MAX_LEN = embedded.size(2) \n",
        "        OUT_LEN = pooled.size(2)\n",
        "        #self.padding = (MAX_LEN*self.STRIDE - MAX_LEN + 1*(self.KERNEL_SIZE - 1) + 1 - self.STRIDE)//2\n",
        "        padded = F.pad(pooled, (int((MAX_LEN - OUT_LEN)/2), \n",
        "                                                   int((MAX_LEN - OUT_LEN)/2)))\n",
        "\n",
        "        return self.act(padded)"
      ],
      "execution_count": 54,
      "outputs": []
    },
    {
      "cell_type": "code",
      "metadata": {
        "id": "bakQ_02uiTDt"
      },
      "source": [
        "class Clf(nn.Module):\n",
        "    \n",
        "    def __init__(self, output_dim):\n",
        "        \n",
        "        super().__init__()          \n",
        "        self.VOCAB_SIZE = len(word2id)\n",
        "        self.EMB_DIM = 128\n",
        "        self.KERNEL_SIZE = 7\n",
        "        self.MAX_LEN = 150\n",
        "        self.IN_CHANNELS = self.MAX_LEN\n",
        "        self.OUT_CHANNELS = 32\n",
        "        self.STRIDE = 1\n",
        "        self.HIDDEN_FC = 64\n",
        "        self.RNN_UNITS = 32\n",
        "        \n",
        "        \n",
        "        self.embedding = nn.Embedding(self.VOCAB_SIZE, self.EMB_DIM)\n",
        "        \n",
        "        self.conv = Conv_layer_with_pad(self.EMB_DIM, self.OUT_CHANNELS) #cnn1 \n",
        "        conv1_output = 16\n",
        "        self.conv1 = Conv_layer_with_pad(self.OUT_CHANNELS, conv1_output, k_size = 2, stride=2) #cnn2\n",
        "        self.max_pool = Pool_layer_with_pad(self.EMB_DIM)\n",
        "        self.gru = nn.GRU(conv1_output, self.RNN_UNITS, batch_first=True, bidirectional=False, num_layers=4, dropout=0.25) #gru\n",
        "        self.lstm = nn.LSTM(conv1_output, self.RNN_UNITS, batch_first=True, bidirectional=False, num_layers=2, dropout=0.5) #lstm\n",
        "        self.relu = nn.ReLU()\n",
        "\n",
        "        \n",
        "        self.fc = nn.Linear(self.RNN_UNITS*2, output_dim)\n",
        "        self.act = nn.LogSoftmax(1) \n",
        "        \n",
        "        \n",
        "    def forward(self, text):\n",
        "\n",
        "        embedded = self.embedding(text)\n",
        "\n",
        "        convoluted_1 = self.relu(self.max_pool(self.conv(embedded.permute(0, 2, 1)))) #первый сверточный слой с пулингом\n",
        "        convoluted_2 = self.relu(self.max_pool(self.conv1(convoluted_1))).permute(0, 2, 1) #второй сверточный слой с пулингом\n",
        "        gru = self.gru(convoluted_2)[0][:, -1]    #gru\n",
        "        lstm = self.lstm(convoluted_2[:, -1:])[0][:, -1]    #lstm в другую сторону\n",
        "        concated = torch.cat((gru, lstm), 1)\n",
        "        hidden = torch.relu(self.fc(concated))\n",
        "        outputs=self.act(hidden)\n",
        "\n",
        "        return outputs"
      ],
      "execution_count": 55,
      "outputs": []
    },
    {
      "cell_type": "code",
      "metadata": {
        "id": "NNg5Ex_RiV4V"
      },
      "source": [
        "device = torch.device('cuda' if torch.cuda.is_available() else 'cpu')  \n",
        "model = Clf(len(label2id))\n",
        "\n",
        "\n",
        "optimizer = optim.Adam(model.parameters(), lr=0.001)\n",
        "criterion = nn.NLLLoss() \n",
        "\n",
        "model = model.to(device)\n",
        "criterion = criterion.to(device)"
      ],
      "execution_count": 56,
      "outputs": []
    },
    {
      "cell_type": "code",
      "metadata": {
        "colab": {
          "base_uri": "https://localhost:8080/"
        },
        "id": "aBUgQxG3mdpu",
        "outputId": "28d87be1-a5c9-4210-b1d9-20fddc8a4a9d"
      },
      "source": [
        "f1s = []\n",
        "f1s_eval = []\n",
        "\n",
        "for i in range(10):\n",
        "    print(i)\n",
        "    f1s.append(train(model, training_generator, optimizer, criterion, 100))\n",
        "    evl = evaluate(model, valid_generator, criterion)\n",
        "    print('Eval - ', evl)\n",
        "    f1s_eval.append(evl)"
      ],
      "execution_count": 57,
      "outputs": [
        {
          "output_type": "stream",
          "text": [
            "0\n",
            "Loss: 2.523375160694122; F1 measure: 0.2011328125\n",
            "Loss: 2.4616160345077516; F1 measure: 0.2079296875\n",
            "Loss: 2.4400964601834616; F1 measure: 0.211875\n",
            "Loss: 2.432223628759384; F1 measure: 0.21212890625\n",
            "Loss: 2.4251161880493166; F1 measure: 0.21315625\n",
            "Eval -  0.2926700191570881\n",
            "1\n",
            "Loss: 2.206180154085159; F1 measure: 0.3117578125\n",
            "Loss: 2.1187306475639343; F1 measure: 0.33900390625\n",
            "Loss: 2.052903882265091; F1 measure: 0.3553645833333333\n",
            "Loss: 1.998747833967209; F1 measure: 0.374287109375\n",
            "Loss: 1.9489891464710236; F1 measure: 0.393\n",
            "Eval -  0.4756034482758621\n",
            "2\n",
            "Loss: 1.6351781129837035; F1 measure: 0.5073828125\n",
            "Loss: 1.5929386240243912; F1 measure: 0.5165625\n",
            "Loss: 1.566566261847814; F1 measure: 0.5200520833333333\n",
            "Loss: 1.5399671468138694; F1 measure: 0.527236328125\n",
            "Loss: 1.514286595582962; F1 measure: 0.5362890625\n",
            "Eval -  0.5905657327586207\n",
            "3\n",
            "Loss: 1.3099603307247163; F1 measure: 0.61203125\n",
            "Loss: 1.2837147623300553; F1 measure: 0.6162109375\n",
            "Loss: 1.2659044277668; F1 measure: 0.6231770833333333\n",
            "Loss: 1.2462312737107277; F1 measure: 0.632080078125\n",
            "Loss: 1.2308306620121001; F1 measure: 0.638234375\n",
            "Eval -  0.658415948275862\n",
            "4\n",
            "Loss: 1.0482684260606765; F1 measure: 0.7104296875\n",
            "Loss: 1.0403397971391677; F1 measure: 0.71251953125\n",
            "Loss: 1.0398021431763966; F1 measure: 0.7126822916666666\n",
            "Loss: 1.0379899176955223; F1 measure: 0.713310546875\n",
            "Loss: 1.0320471951961516; F1 measure: 0.7147890625\n",
            "Eval -  0.6816397270114943\n",
            "5\n",
            "Loss: 0.8923256349563599; F1 measure: 0.763671875\n",
            "Loss: 0.8994426858425141; F1 measure: 0.75916015625\n",
            "Loss: 0.9032258671522141; F1 measure: 0.7572916666666667\n",
            "Loss: 0.9005687819421291; F1 measure: 0.7578125\n",
            "Loss: 0.8980474579334259; F1 measure: 0.7580859375\n",
            "Eval -  0.6914912595785441\n",
            "6\n",
            "Loss: 0.7966877013444901; F1 measure: 0.7914453125\n",
            "Loss: 0.7901601076126099; F1 measure: 0.79361328125\n",
            "Loss: 0.7955351799726487; F1 measure: 0.7914973958333333\n",
            "Loss: 0.798345775604248; F1 measure: 0.790654296875\n",
            "Loss: 0.7989851911067962; F1 measure: 0.7896015625\n",
            "Eval -  0.6971204501915709\n",
            "7\n",
            "Loss: 0.6929500144720078; F1 measure: 0.8243359375\n",
            "Loss: 0.7014110818505287; F1 measure: 0.82251953125\n",
            "Loss: 0.7088942660888036; F1 measure: 0.8198046875\n",
            "Loss: 0.7133591571450233; F1 measure: 0.818193359375\n",
            "Loss: 0.7146202265620232; F1 measure: 0.817609375\n",
            "Eval -  0.7026293103448276\n",
            "8\n",
            "Loss: 0.6400576585531235; F1 measure: 0.8419140625\n",
            "Loss: 0.6385971800982952; F1 measure: 0.83951171875\n",
            "Loss: 0.6445914205908775; F1 measure: 0.8375130208333333\n",
            "Loss: 0.6438623525947332; F1 measure: 0.837197265625\n",
            "Loss: 0.6462057507634162; F1 measure: 0.8363984375\n",
            "Eval -  0.7030334051724138\n",
            "9\n",
            "Loss: 0.57683694511652; F1 measure: 0.8598828125\n",
            "Loss: 0.5865550392866135; F1 measure: 0.8555078125\n",
            "Loss: 0.5828656883041063; F1 measure: 0.855703125\n",
            "Loss: 0.5872612664848567; F1 measure: 0.853779296875\n",
            "Loss: 0.5873424543738365; F1 measure: 0.8531640625\n",
            "Eval -  0.7030615421455939\n"
          ],
          "name": "stdout"
        }
      ]
    },
    {
      "cell_type": "code",
      "metadata": {
        "id": "Wt1A2RrBmz1v",
        "colab": {
          "base_uri": "https://localhost:8080/",
          "height": 295
        },
        "outputId": "1e80e41d-0fda-4e8e-d67b-372a74032279"
      },
      "source": [
        "plt.plot(f1s)\n",
        "plt.plot(f1s_eval)\n",
        "plt.title('model f1 micro')\n",
        "plt.ylabel('f1')\n",
        "plt.xlabel('epoch')\n",
        "plt.legend(['train', 'val'], loc='upper left')\n",
        "plt.show()"
      ],
      "execution_count": 58,
      "outputs": [
        {
          "output_type": "display_data",
          "data": {
            "image/png": "[encoded data removed]",
            "text/plain": [
              "<Figure size 432x288 with 1 Axes>"
            ]
          },
          "metadata": {
            "tags": [],
            "needs_background": "light"
          }
        }
      ]
    },
    {
      "cell_type": "code",
      "metadata": {
        "id": "qa00oAKEm18l",
        "colab": {
          "base_uri": "https://localhost:8080/"
        },
        "outputId": "3c642f1a-28df-4c2d-ee57-b65f646add80"
      },
      "source": [
        "max(f1s_eval)"
      ],
      "execution_count": 59,
      "outputs": [
        {
          "output_type": "execute_result",
          "data": {
            "text/plain": [
              "0.7030615421455939"
            ]
          },
          "metadata": {
            "tags": []
          },
          "execution_count": 59
        }
      ]
    },
    {
      "cell_type": "code",
      "metadata": {
        "id": "RjJ8mu3Nuwlg"
      },
      "source": [
        ""
      ],
      "execution_count": null,
      "outputs": []
    }
  ]
}